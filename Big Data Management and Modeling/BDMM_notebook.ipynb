{
 "cells": [
  {
   "cell_type": "markdown",
   "metadata": {},
   "source": [
    "# Big Data Modelling and Management 2022"
   ]
  },
  {
   "cell_type": "markdown",
   "metadata": {},
   "source": [
    "Group number: 6\n",
    "\n",
    "Students (name : student number):\n",
    "\n",
    "1. João Morais Costa 20211005\n",
    "\n",
    "2. Gonçalo Gomes 20211007\n",
    "\n",
    "3. Gabriel Avezum 20210663 \n",
    "\n",
    "4. Danilo Arfelli - 20211296\n",
    "\n",
    "5. Diogo Tomás Peixoto - 20210993"
   ]
  },
  {
   "cell_type": "markdown",
   "metadata": {},
   "source": [
    "## 🚚 BDMM Second Homework Assignment 🚚 \n",
    "\n",
    "_The Wide World Importers (WWI) is a wholesales novelty goods importer and distributor operating from the San Francisco bay area. In this assignment we will be working with their database._ \n",
    "You can get more information and details about the WWI database in the following link: https://docs.microsoft.com/en-us/sql/samples/wide-world-importers-what-is?view=sql-server-ver15\n",
    "\n",
    "The focus of the second assignment is modelling. We will use the World Wide Importers database and convert it to a document-based database. To that end, we will be leveraging concepts like data denormalization, indices, and mongodb design patterns. \n",
    "\n",
    "More information on the extended datamodel to be found here: </br>  \n",
    "https://docs.microsoft.com/en-us/sql/samples/wide-world-importers-oltp-database-catalog?view=sql-server-ver15"
   ]
  },
  {
   "cell_type": "markdown",
   "metadata": {},
   "source": [
    "## Problem Description\n",
    "\n",
    "Your team has just arrived at WWI (a leading company in logistics). Welcome!   <br>\n",
    "Even though business is thriving, the IT department is going through a bad time.   <br>\n",
    "Digitalization was never a priority for the company and now the company operational and analytical requirements are starting to grow beyond the capabilities of their existing data architecture.   <br>\n",
    "\n",
    "WWI data are spread accross different systems, but we've already managed to pull them all into a mongo dump file. This data file is an exact dump of the SQL data so includes all the same structure, the SQL tables become collections and the rows become documents. This means all the original SQL keys are included in the data.<br>\n",
    "Currently, the costs to develop the necessary queries to collect data to answer questions asked by the different departments are too high. <br>\n",
    "\n",
    "Management concluded it is the right time to revise and revamp the data architecture, in order to speed up operations. \n",
    "\n",
    "In that context, your team was tasked with merging all the company data into a single and coherent Mongo database. <br>\n",
    "It is expected that, with your solution, WWI will have a better understanding of their business and that the different departments will be able to obtain efficiently the answers they need.\n",
    "\n",
    "The WWI team shared with you an ERD of their current datamodel:<br>\n",
    "![datamodel](./WWI-v2.png)"
   ]
  },
  {
   "cell_type": "markdown",
   "metadata": {},
   "source": [
    "**Note** You can open the file WWI.png that is in the same directory as this notebook to see the above image in more detail and zoom in as you need.\n",
    "\n",
    "Addtionally, the WWI team asked you the deliver the following outputs in **4 weeks**:\n",
    "- Understand and model the database in MongoDB.\n",
    "- Setup the database so that it is performs well for the queries they have provided. You should include reasoning in comments for the decisions you make on modelling the database.\n",
    "- Answer the questions (queries) on the data provided.  \n",
    "- Submit the results by following the instructions.  \n",
    "\n",
    "With these deliveries, you will have created a prototype and allows the management to decide whether MongoDB is a good solution that meets their requirements."
   ]
  },
  {
   "cell_type": "markdown",
   "metadata": {},
   "source": [
    "### Design Requirements\n",
    "\n",
    "Note that WWI has the following query requirements for the database.\n",
    "\n",
    "1. The web team needs to know:  \n",
    "    1. Which state province do we have the most suppliers in?  \n",
    "    2. How many people have three or more `OtherLanguage`? \n",
    "    3. Top 10 most common `OtherLanguage` for people records. \n",
    "    4. How many customer records are valid after `November 2015`? \n",
    "    5. What percentage of people records don't have the UserPreferences field? \n",
    "\n",
    "2. The warehouse group needs to know:  \n",
    "    1. What is the average difference in days between OrderDate and ExpectedDeliveryDate for orders sold by (`SalespersonPersonID`) person with the name `Jack Potter`?\n",
    "    2. Which items get ordered the most in bulk (largest average quantity ordered)?  \n",
    "    3. Which two items get ordered together the most?\n",
    "    4. For each customer category which 3 items have the ordered the most?\n",
    "    5. What is the current stock of each stockgroup?\n",
    "\n",
    "3. The CFO needs to know:  \n",
    "    1. What is the monthly total order count for each month?  \n",
    "    2. How many orders are there from the customer `Tailspin Toys (Head Office)`?\n",
    "    3. What are the average monthly sales prices of all goods sold? \n",
    "    4. In each state province what is the average customer credit limit?   \n",
    "    5. What are the yearly expenditures with each supplier (per supplier name)?  \n",
    "\n",
    "4. Partnerships needs to know:  \n",
    "    1. What is the most common payment type?  \n",
    "    2. What percentage of people have their `Title` as `Team Member`?\n",
    "    3. Which supplier of the category `Novelty Goods Supplier` has the most transactions?  \n",
    "    4. What is the highest `CommissionRate` that a person has?\n",
    "\n",
    "5. The marketing team needs to know:  \n",
    "    1. What is the name of the sales person with the largest sum of invoice values in 2013 (person whose customers paid the most money)?\n",
    "    2. Who are the most common `PickedByPersonID` person names for orders done by customer `Adriana Pena`?\n",
    "    3. How many people have in their name the string `Sara`?\n",
    "    5. What are the top 10 most Common Names (Primary or Surnames) of people?\n",
    "\n",
    "Transform the mongo dump file provided with this notebook and model a database following mongodb's best practices. You should adjust the data model to best fit the use cases provided above. Think about collections, embedding, linking, indexing, and the patterns learned in class. Provide justifications for each decision you make. What, if any, are the trade-off's or disadvantages of your approach.\n",
    "\n",
    "Use MongoDB queries to answer the questions on your transformed database.\n",
    "\n",
    "### Deliverables\n",
    "\n",
    "1. Notebook with all DB creation operations and CRUD operations to create the data model. **Important** you should include in comments justification for your decisions on modelling the data.;\n",
    "2. Second notebook with all required queries and answers for the questions, **Important** please indicate with comments the steps in the data model you took to optimise each query;\n"
   ]
  },
  {
   "cell_type": "markdown",
   "metadata": {},
   "source": [
    "# Additional Information\n",
    "\n",
    "## Groups  \n",
    "\n",
    "Students should form groups of at least 4 and at most 5. <br>\n",
    "\n",
    "## Submission  Deadline\n",
    "\n",
    "The submission includes two notebooks with outputs (cells must be run). \n",
    "Please make sure to indicate:\n",
    "1. group number,\n",
    "2. group members with student names and numbers,\n",
    "3. the name of the database that you created. <br>\n",
    "\n",
    "Upload the notebook on moodle before **23:59 on June 22nd**\n",
    "\n",
    "## Evaluation   \n",
    "\n",
    "The second homework assignment counts 40% towards your final mark of the curricular unit. <br>\n",
    "The assignment will be scored from 0 to 20. <br>\n",
    "\n",
    "Each group submission will be evaluated on three components:\n",
    "1. correctness of results;\n",
    "2. simplicity and performance characteristics of the solution;\n",
    "3. justification of decisions.\n",
    "\n",
    "50% -  Database design  \n",
    "50% -  Query results including performance\n",
    "\n",
    "Please note that all code delivered in this assignment will go through plagiarism automated checks. <br>\n",
    "Groups with high similarity levels in their code will undergo investigation.\n"
   ]
  },
  {
   "cell_type": "code",
   "execution_count": 3,
   "metadata": {},
   "outputs": [],
   "source": [
    "from pymongo import MongoClient\n",
    "from bson.objectid import ObjectId\n",
    "from pprint import pprint\n",
    "\n",
    "host=\"localhost\"\n",
    "port=\"27017\"\n",
    "user=\"User\"\n",
    "password=\"password\"\n",
    "protocol=\"mongodb\"\n",
    "client = MongoClient(f\"{protocol}://{user}:{password}@{host}:{port}\")\n",
    "db = client.WideWorldImporters"
   ]
  },
  {
   "cell_type": "markdown",
   "metadata": {},
   "source": [
    "## DataBase Modelling  "
   ]
  },
  {
   "cell_type": "markdown",
   "metadata": {},
   "source": [
    "![datamodel](./Database_Modelling.png)"
   ]
  },
  {
   "cell_type": "markdown",
   "metadata": {},
   "source": [
    "#### Justification: "
   ]
  },
  {
   "cell_type": "markdown",
   "metadata": {},
   "source": [
    "The table above was created to assist in the database modelling creation. \n",
    "\n",
    "Firstly, we have answered all the queries with the collections provided inittialy. Then, for each query, the collections used were identified with a cross in the table above. As an example, we can see that the query 1a) has used the collections \"Cities\", \"StateProvinces\" and \"Suppliers\". We can conclude that out of the 27 collections provided, only 14 were necessary to use. \n",
    "\n",
    "With regards to the database modelling, the first principle we took into account was to create a simpler model as learnt during the theorical classes, meaning to say, larger documents and fewer collections. In addition, with an overall view of the collections used, we were also in the right position to start thinking about either embedding or referencing the collections.\n",
    "\n",
    "We have started by identifying the group of collections mostly used together. It entails the \"SupplierTransactions\", \"PaymentMethods\", \"Suppliers\" and \"SupplierCategories\", which have been embedded. All these collections have a relationship one to many.  One \"Payment Method\" and one \"Suppliers\" have many \"SupplierTransactions\". The one documents are very small, therefore have been embedded on the many side. Following with the joining chain, one \"SuppplierCategory\" have many \"Suppliers\", with the formers being embedded on the many side. Based on the relationships referred, we had initally a \"SupplierTransactions\" collection with 2438 documents and end up with a new collection called \"suppliertransactions_embed\", which has also the same number of documents and is identified in the table above with blue colour. This embedded document allows to answer four queries (3e, 4a and 4c) and is referenced together with other collections to answer the query 5c). \n",
    "\n",
    "To answer the query 3d), we could not use the collection embedded previously. This one had only the \"StateProvinces\" that were linked on the \"Suppliers\" collection via the \"Cities\" one. Instead of \"Suppliers\", this query is related to the \"Customers\", which have their own \"Cities\" and \"StateProvinces\" linked to. One \"StateProvince\" has many cities and one \"City\" has many \"Customers\". Since the \"Cities\" is the biggest collection in terms of documents out of these three by far, we have decided to embed the other two collections on it. The embedded collection result has been named \"customers_cities_states\" and is identified in the table above with red colour. This one allows to answer the query 3d) and is referenced together with other collections to answer the queries ( 2d, 3b, 5b and 5c). \n",
    "\n",
    "Both the collections \"Invoices\" and \"InvoiceLines\" have a big number of documents. They had to be joined to answer both the queries 2d) and 3c). Therefore, it is natural that we have decided to embed them, in order to avoid to repeat two join operations. One \"Invoice\" has many \"InvoiceLines\". We have decided to embed on the one side because both queries have to be queried on this side. We have named the collection embedded output as \"Invoices_invoicelines\" and is identified in the table above with green colour. This one allows to answer the query 3c) and is referenced together with other collections to answer the queries ( 2d and 5a). \n",
    "\n",
    "The queries that entail different collections with different colours are the ones that had to be referenced. The two queries fully referenced are the ( 1a and 2a). The hybrid queries, meaning to say, using simultaniously both embedding and referencing models are the ones already referred above, but are again presented here to ease the understanding of the table, which are (2d, 3b, 5a, 5b and 5c). \n",
    "\n",
    "All the queries with a white cross on the respective row mean that could be answered with a single native collection. The ones not underlined mean that neither had to be referenced or embedded. The ones underlined, since the relevant collection had to be embedded, mean that are answered with the new embedded collection created. "
   ]
  },
  {
   "cell_type": "markdown",
   "metadata": {},
   "source": [
    "## A) Embedding and Indexing Its Collections "
   ]
  },
  {
   "cell_type": "markdown",
   "metadata": {},
   "source": [
    "### A.1) Modelling the Collection \"SuppliersTransactions_Embed\" Embedded - Blue Colour in the Above Table "
   ]
  },
  {
   "cell_type": "markdown",
   "metadata": {},
   "source": [
    "#### A.1.1) Indexing for Embedding "
   ]
  },
  {
   "cell_type": "code",
   "execution_count": 4,
   "metadata": {
    "scrolled": true
   },
   "outputs": [
    {
     "data": {
      "text/plain": [
       "'SupplierCategoryID'"
      ]
     },
     "execution_count": 4,
     "metadata": {},
     "output_type": "execute_result"
    }
   ],
   "source": [
    "# Index created to speed the lookup and the merge operations \n",
    "\n",
    "db.suppliertransactions.create_index(\n",
    "    [('paymentmethods', 1)],\n",
    "    name='InvoiceID', \n",
    ")\n",
    "\n",
    "db.suppliertransactions.create_index(\n",
    "    [('PaymentMethodID', 1)],\n",
    "    name='PaymentMethodID', \n",
    ")\n",
    "\n",
    "\n",
    "db.suppliercategories.create_index(\n",
    "    [('SupplierCategoryID', 1)],\n",
    "    name='SupplierCategoryID', \n",
    ")"
   ]
  },
  {
   "cell_type": "markdown",
   "metadata": {},
   "source": [
    "#### A.1.2) Embedding with LookUp"
   ]
  },
  {
   "cell_type": "code",
   "execution_count": 5,
   "metadata": {},
   "outputs": [
    {
     "data": {
      "text/plain": [
       "<pymongo.command_cursor.CommandCursor at 0x11cdedeb670>"
      ]
     },
     "execution_count": 5,
     "metadata": {},
     "output_type": "execute_result"
    }
   ],
   "source": [
    "# Embedding the relevant collections\n",
    "\n",
    "query_1 = {\n",
    "        '$lookup': {\n",
    "           \"from\": \"paymentmethods\",\n",
    "           \"localField\": \"PaymentMethodID\",\n",
    "           \"foreignField\": \"PaymentMethodID\",\n",
    "           \"as\": \"paymentMethod\"\n",
    "        }\n",
    "    }\n",
    "\n",
    "query_1_1 = {\n",
    "    '$unwind':'$paymentMethod'\n",
    "}\n",
    "\n",
    "\n",
    "\n",
    "query_2 = {\n",
    "        '$lookup': {\n",
    "           \"from\": \"suppliers\",\n",
    "           \"localField\": \"SupplierID\",\n",
    "           \"foreignField\": \"SupplierID\",\n",
    "           \"as\": \"suppliers\"\n",
    "        }\n",
    "    }\n",
    "query_2_1 = {\n",
    "    '$unwind':'$suppliers'\n",
    "}\n",
    "\n",
    "\n",
    "query_3 = {\n",
    "        '$lookup': {\n",
    "           \"from\": \"suppliercategories\",\n",
    "           \"localField\": \"suppliers.SupplierCategoryID\",\n",
    "           \"foreignField\": \"SupplierCategoryID\",\n",
    "           \"as\": \"suppliercategories\"\n",
    "        }\n",
    "    }\n",
    "\n",
    "query_3_1 = {\n",
    "    '$unwind':'$suppliercategories'\n",
    "}\n",
    "\n",
    "\n",
    "\n",
    "query_4 = { \n",
    "        \"$merge\" : {\n",
    "            \"into\" : \"suppliertransactions_embed\",\n",
    "            \"whenMatched\": \"replace\"\n",
    "        } \n",
    "    }\n",
    "\n",
    "pipeline = [query_1,query_1_1,query_2,query_2_1,query_3,query_3_1,query_4]\n",
    "db.suppliertransactions.aggregate(pipeline)"
   ]
  },
  {
   "cell_type": "markdown",
   "metadata": {},
   "source": [
    "## A.2) Modeling the Collection \"customers_cities_states\" embedded - Red Colour in the Above Table "
   ]
  },
  {
   "cell_type": "markdown",
   "metadata": {},
   "source": [
    "#### A.2.1) Indexing for Lookup"
   ]
  },
  {
   "cell_type": "code",
   "execution_count": 6,
   "metadata": {},
   "outputs": [
    {
     "data": {
      "text/plain": [
       "'PostalCityID'"
      ]
     },
     "execution_count": 6,
     "metadata": {},
     "output_type": "execute_result"
    }
   ],
   "source": [
    "# Index created to speed the lookup and the merge operations \n",
    "\n",
    "db.cities.create_index(\n",
    "    [('CityID', 1)],\n",
    "    name='CityID', \n",
    ")\n",
    "\n",
    "db.cities.create_index(\n",
    "    [('StateProvinceID', 1)],\n",
    "    name='StateProvinceID', \n",
    ")\n",
    "\n",
    "db.stateprovinces.create_index(\n",
    "    [('StateProvinceID', 1)],\n",
    "    name='StateProvinceID', \n",
    ")\n",
    "\n",
    "\n",
    "db.customers.create_index(\n",
    "    [('PostalCityID', 1)],\n",
    "    name='PostalCityID', \n",
    ")\n"
   ]
  },
  {
   "cell_type": "markdown",
   "metadata": {},
   "source": [
    "#### A.2.2) Embedding with Lookup"
   ]
  },
  {
   "cell_type": "code",
   "execution_count": 7,
   "metadata": {},
   "outputs": [
    {
     "data": {
      "text/plain": [
       "<pymongo.command_cursor.CommandCursor at 0x11ce051c4c0>"
      ]
     },
     "execution_count": 7,
     "metadata": {},
     "output_type": "execute_result"
    }
   ],
   "source": [
    "# Embedding the relevant collections\n",
    "\n",
    "query_1 = {\n",
    "        \"$lookup\": {\n",
    "           \"from\": \"customers\",\n",
    "           \"localField\": \"CityID\",\n",
    "           \"foreignField\": \"PostalCityID\",\n",
    "           \"as\": \"Customer_Info\"\n",
    "    }\n",
    "}\n",
    "\n",
    "query_2 = {\n",
    "    \"$unwind\": \"$Customer_Info\"\n",
    "}\n",
    "\n",
    "query_3 = {\n",
    "        \"$lookup\": {\n",
    "           \"from\": \"stateprovinces\",\n",
    "           \"localField\": \"StateProvinceID\",\n",
    "           \"foreignField\": \"StateProvinceID\",\n",
    "           \"as\": \"state_provinces_Info\"\n",
    "    }\n",
    "}\n",
    "\n",
    "query_4 = {\n",
    "    \"$unwind\": \"$state_provinces_Info\"\n",
    "}\n",
    "\n",
    "\n",
    "\n",
    "query_5 = { \n",
    "        \"$merge\" : {\n",
    "            \"into\" : \"customers_cities_states\",\n",
    "            \"whenMatched\": \"replace\"\n",
    "    } \n",
    "}\n",
    "\n",
    "\n",
    "pipeline = [query_1, query_2, query_3, query_4, query_5]\n",
    "\n",
    "db.cities.aggregate(pipeline)\n"
   ]
  },
  {
   "cell_type": "markdown",
   "metadata": {},
   "source": [
    "## A.3) Modeling the Collection \"Invoices_invoicelines\" embedded - Green Colour in the Above Table "
   ]
  },
  {
   "cell_type": "markdown",
   "metadata": {},
   "source": [
    "#### A.3.1) Indexing for Embedding "
   ]
  },
  {
   "cell_type": "code",
   "execution_count": 8,
   "metadata": {},
   "outputs": [
    {
     "data": {
      "text/plain": [
       "'InvoiceID'"
      ]
     },
     "execution_count": 8,
     "metadata": {},
     "output_type": "execute_result"
    }
   ],
   "source": [
    "# Index created to speed the lookup and the merge operations \n",
    "\n",
    "db.invoicelines.create_index(\n",
    "    [('InvoiceID', 1)],\n",
    "    name='InvoiceID', \n",
    ")\n",
    "\n",
    "db.invoices.create_index(\n",
    "    [('InvoiceID', 1)],\n",
    "    name='InvoiceID', \n",
    ")"
   ]
  },
  {
   "cell_type": "markdown",
   "metadata": {},
   "source": [
    "#### A.3.2) Embedding with Lookup"
   ]
  },
  {
   "cell_type": "code",
   "execution_count": 9,
   "metadata": {},
   "outputs": [
    {
     "data": {
      "text/plain": [
       "<pymongo.command_cursor.CommandCursor at 0x11ce0539850>"
      ]
     },
     "execution_count": 9,
     "metadata": {},
     "output_type": "execute_result"
    }
   ],
   "source": [
    "# Embedding the relevant collections\n",
    "\n",
    "query_1 = {\n",
    "        \"$lookup\":{\n",
    "           \"from\": \"invoicelines\",\n",
    "           \"localField\": \"InvoiceID\",\n",
    "           \"foreignField\": \"InvoiceID\",\n",
    "           \"as\": \"invoice_extra\"\n",
    "        }\n",
    "    }\n",
    "\n",
    "query_2 = {\n",
    "    \"$unwind\": \"$invoice_extra\"\n",
    "}\n",
    "\n",
    "\n",
    "query_3 = { \n",
    "        \"$merge\" : {\n",
    "            \"into\" : \"Invoices_invoicelines\",\n",
    "            \"whenMatched\": \"replace\"\n",
    "    } \n",
    "}\n",
    "\n",
    "pipeline = [query_1,query_2,query_3]\n",
    "db.invoices.aggregate(pipeline)"
   ]
  },
  {
   "cell_type": "markdown",
   "metadata": {},
   "source": [
    "## B) Preprocessing and Indexing Collections that were not Embedded"
   ]
  },
  {
   "cell_type": "markdown",
   "metadata": {},
   "source": [
    "### B.1) Transforming the variables that are strings into dictionaries"
   ]
  },
  {
   "cell_type": "code",
   "execution_count": 10,
   "metadata": {},
   "outputs": [],
   "source": [
    "# Some fields in the collection people are strings. Therefore, we had to transform then onto dictionaires, in order to be able to answer some of the queries that requires these field values \n",
    "\n",
    "import json\n",
    "import re\n",
    "people_python = list(db.people.find())\n",
    "for i in range(len(people_python)):\n",
    "    if people_python[i]['CustomFields'] is None:\n",
    "        continue\n",
    "    else:\n",
    "        people_python[i]['CustomFields'] = json.loads(people_python[i]['CustomFields'])\n",
    "        \n",
    "for i in range(len(people_python)):\n",
    "    if people_python[i]['OtherLanguages'] is None:\n",
    "        continue\n",
    "    else:\n",
    "        people_python[i]['OtherLanguages'] = re.sub(r\"\\[|\\]|\\\"\",'',people_python[i]['OtherLanguages']).split(',')\n",
    "        \n",
    "for i in range(len(people_python)):\n",
    "    if people_python[i]['UserPreferences'] is None:\n",
    "        continue\n",
    "    else:\n",
    "        people_python[i]['UserPreferences'] = json.loads(people_python[i]['UserPreferences'])      "
   ]
  },
  {
   "cell_type": "code",
   "execution_count": 11,
   "metadata": {},
   "outputs": [
    {
     "data": {
      "text/plain": [
       "<pymongo.results.InsertManyResult at 0x11ce05674f0>"
      ]
     },
     "execution_count": 11,
     "metadata": {},
     "output_type": "execute_result"
    }
   ],
   "source": [
    "# Create a new collection called people_2, with the fields identified in the cell above transformed from strings onto dictionaires \n",
    "\n",
    "db.people_2.insert_many(people_python)"
   ]
  }
 ],
 "metadata": {
  "hide_input": false,
  "kernelspec": {
   "display_name": "Python 3 (ipykernel)",
   "language": "python",
   "name": "python3"
  },
  "language_info": {
   "codemirror_mode": {
    "name": "ipython",
    "version": 3
   },
   "file_extension": ".py",
   "mimetype": "text/x-python",
   "name": "python",
   "nbconvert_exporter": "python",
   "pygments_lexer": "ipython3",
   "version": "3.8.8"
  },
  "toc": {
   "base_numbering": 1,
   "nav_menu": {},
   "number_sections": true,
   "sideBar": true,
   "skip_h1_title": false,
   "title_cell": "Table of Contents",
   "title_sidebar": "Contents",
   "toc_cell": false,
   "toc_position": {},
   "toc_section_display": true,
   "toc_window_display": false
  },
  "varInspector": {
   "cols": {
    "lenName": 16,
    "lenType": 16,
    "lenVar": 40
   },
   "kernels_config": {
    "python": {
     "delete_cmd_postfix": "",
     "delete_cmd_prefix": "del ",
     "library": "var_list.py",
     "varRefreshCmd": "print(var_dic_list())"
    },
    "r": {
     "delete_cmd_postfix": ") ",
     "delete_cmd_prefix": "rm(",
     "library": "var_list.r",
     "varRefreshCmd": "cat(var_dic_list()) "
    }
   },
   "types_to_exclude": [
    "module",
    "function",
    "builtin_function_or_method",
    "instance",
    "_Feature"
   ],
   "window_display": false
  }
 },
 "nbformat": 4,
 "nbformat_minor": 4
}
