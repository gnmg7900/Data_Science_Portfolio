{
 "cells": [
  {
   "cell_type": "markdown",
   "id": "56ab3469-1aff-4596-9cc1-993cfa0a84e4",
   "metadata": {},
   "source": [
    "## 1. Import"
   ]
  },
  {
   "cell_type": "markdown",
   "id": "6108a755-9610-489d-b757-6ce619422e69",
   "metadata": {},
   "source": [
    "### 1.1. Import the needed libraries "
   ]
  },
  {
   "cell_type": "code",
   "execution_count": 4,
   "id": "f4cfa8d4-ca0c-4f83-8207-84fe99576d38",
   "metadata": {},
   "outputs": [
    {
     "name": "stderr",
     "output_type": "stream",
     "text": [
      "[nltk_data] Downloading package punkt to\n",
      "[nltk_data]     C:\\Users\\Tomás\\AppData\\Roaming\\nltk_data...\n",
      "[nltk_data]   Package punkt is already up-to-date!\n",
      "[nltk_data] Downloading package averaged_perceptron_tagger to\n",
      "[nltk_data]     C:\\Users\\Tomás\\AppData\\Roaming\\nltk_data...\n",
      "[nltk_data]   Package averaged_perceptron_tagger is already up-to-\n",
      "[nltk_data]       date!\n",
      "[nltk_data] Downloading package tagsets to\n",
      "[nltk_data]     C:\\Users\\Tomás\\AppData\\Roaming\\nltk_data...\n",
      "[nltk_data]   Package tagsets is already up-to-date!\n"
     ]
    }
   ],
   "source": [
    "import pandas as pd\n",
    "import numpy as np\n",
    "import seaborn as sns\n",
    "import matplotlib\n",
    "import matplotlib.pyplot as plt\n",
    "\n",
    "# regular expressions \n",
    "import re\n",
    "\n",
    "# Text Preprocessing \n",
    "#nltk.download('stopwords')\n",
    "#nltk.download('wordnet')\n",
    "from nltk.corpus import stopwords\n",
    "from nltk.stem.wordnet import WordNetLemmatizer\n",
    "from bs4 import BeautifulSoup\n",
    "\n",
    "# Feature preprocessing and extraction \n",
    "from sklearn.feature_extraction.text import CountVectorizer\n",
    "from sklearn.feature_extraction.text import TfidfVectorizer\n",
    "from sklearn.decomposition import PCA\n",
    "from sklearn.preprocessing import OneHotEncoder\n",
    "\n",
    "# Oversampling techniques \n",
    "from imblearn.over_sampling import SMOTE, ADASYN   \n",
    "\n",
    "# Algorithms \n",
    "from sklearn.naive_bayes import GaussianNB\n",
    "from sklearn.naive_bayes import MultinomialNB\n",
    "from sklearn.naive_bayes import BernoulliNB\n",
    "from sklearn.ensemble import RandomForestClassifier\n",
    "from sklearn.svm import SVC\n",
    "from sklearn.neural_network import MLPClassifier\n",
    "from sklearn.neighbors import KNeighborsClassifier\n",
    "from sklearn.linear_model import LogisticRegression\n",
    "from sklearn.ensemble import BaggingClassifier\n",
    "\n",
    "# evaluation report \n",
    "from sklearn.metrics import classification_report, confusion_matrix\n",
    "\n",
    "\n",
    "# \n",
    "import nltk\n",
    "nltk.download('punkt')\n",
    "nltk.download('averaged_perceptron_tagger')\n",
    "nltk.download('tagsets')\n",
    "\n",
    "# count time\n",
    "import time\n",
    "\n",
    "# import randomized search \n",
    "from sklearn.model_selection import RandomizedSearchCV\n",
    "from sklearn.model_selection import GridSearchCV\n",
    "\n",
    "import warnings\n",
    "warnings.filterwarnings(\"ignore\")"
   ]
  },
  {
   "cell_type": "markdown",
   "id": "a9c1f4db-954d-44ed-a800-8da5c2473223",
   "metadata": {},
   "source": [
    "### 1.2. Import the Dataset"
   ]
  },
  {
   "cell_type": "code",
   "execution_count": 5,
   "id": "bc9572ae-7747-4cbf-9d46-c78cb00d4c3b",
   "metadata": {},
   "outputs": [
    {
     "data": {
      "text/html": [
       "<div>\n",
       "<style scoped>\n",
       "    .dataframe tbody tr th:only-of-type {\n",
       "        vertical-align: middle;\n",
       "    }\n",
       "\n",
       "    .dataframe tbody tr th {\n",
       "        vertical-align: top;\n",
       "    }\n",
       "\n",
       "    .dataframe thead th {\n",
       "        text-align: right;\n",
       "    }\n",
       "</style>\n",
       "<table border=\"1\" class=\"dataframe\">\n",
       "  <thead>\n",
       "    <tr style=\"text-align: right;\">\n",
       "      <th></th>\n",
       "      <th>sentence</th>\n",
       "      <th>emotion</th>\n",
       "    </tr>\n",
       "  </thead>\n",
       "  <tbody>\n",
       "    <tr>\n",
       "      <th>0</th>\n",
       "      <td>I'm too old to be traded in .</td>\n",
       "      <td>6</td>\n",
       "    </tr>\n",
       "    <tr>\n",
       "      <th>1</th>\n",
       "      <td>Mother said you could always tell a lady by he...</td>\n",
       "      <td>8</td>\n",
       "    </tr>\n",
       "    <tr>\n",
       "      <th>2</th>\n",
       "      <td>I always said I'd leave off when the time came .</td>\n",
       "      <td>6</td>\n",
       "    </tr>\n",
       "    <tr>\n",
       "      <th>3</th>\n",
       "      <td>He'll be safe with me .</td>\n",
       "      <td>2</td>\n",
       "    </tr>\n",
       "    <tr>\n",
       "      <th>4</th>\n",
       "      <td>Lay off .</td>\n",
       "      <td>1</td>\n",
       "    </tr>\n",
       "  </tbody>\n",
       "</table>\n",
       "</div>"
      ],
      "text/plain": [
       "                                            sentence  emotion\n",
       "0                      I'm too old to be traded in .        6\n",
       "1  Mother said you could always tell a lady by he...        8\n",
       "2   I always said I'd leave off when the time came .        6\n",
       "3                            He'll be safe with me .        2\n",
       "4                                          Lay off .        1"
      ]
     },
     "execution_count": 5,
     "metadata": {},
     "output_type": "execute_result"
    }
   ],
   "source": [
    "# importing data\n",
    "sentence = pd.read_csv(\"Data-20220517/training_set.txt\",sep='\\t',header=0)\n",
    "dev_set = pd.read_csv(\"Data-20220517/dev_set.txt\",sep='\\t',header=0)\n",
    "\n",
    "sentence.head()"
   ]
  },
  {
   "cell_type": "code",
   "execution_count": 18,
   "id": "0230b19b-86d6-43f7-815b-5bb546ea4976",
   "metadata": {},
   "outputs": [
    {
     "data": {
      "text/plain": [
       "(14000, 4)"
      ]
     },
     "execution_count": 18,
     "metadata": {},
     "output_type": "execute_result"
    }
   ],
   "source": [
    "sentence.shape"
   ]
  },
  {
   "cell_type": "markdown",
   "id": "5c9b8227-ef5f-4f7d-bf48-a0774aa40079",
   "metadata": {},
   "source": [
    "## 2. Text Exploration\n",
    "\n",
    "### 2.1. Counting Words and StopWords "
   ]
  },
  {
   "cell_type": "code",
   "execution_count": 3,
   "id": "de2f9c44-101c-4d34-a771-3c17e436d9af",
   "metadata": {},
   "outputs": [],
   "source": [
    "def word_counter_stopwords(text_list):\n",
    "    \"\"\"\n",
    "    Function that receives a list of strings and returns the (absolute) frequency of each word in that list of strings.\n",
    "    \"\"\"\n",
    "    words_in_df = ' '.join(text_list).split()\n",
    "    \n",
    "    stop_words = set(stopwords.words(\"english\"))               \n",
    "    n = [w for w in words_in_df if w in stop_words]\n",
    "    \n",
    "    # Count all words \n",
    "    freq = pd.Series(n).value_counts()\n",
    "    \n",
    "    return freq"
   ]
  },
  {
   "cell_type": "code",
   "execution_count": 14,
   "id": "a5af3d47-43ca-43ff-89d7-45db0951f08f",
   "metadata": {},
   "outputs": [
    {
     "data": {
      "text/plain": [
       "shouldn't     18\n",
       "under         16\n",
       "won           15\n",
       "its           13\n",
       "hadn't        12\n",
       "ourselves     11\n",
       "yourselves     8\n",
       "that'll        7\n",
       "further        7\n",
       "nor            6\n",
       "mustn't        6\n",
       "ours           5\n",
       "herself        5\n",
       "themselves     5\n",
       "hasn't         5\n",
       "should've      4\n",
       "itself         4\n",
       "during         4\n",
       "whom           3\n",
       "ma             3\n",
       "above          2\n",
       "o              2\n",
       "needn't        2\n",
       "below          2\n",
       "m              2\n",
       "dtype: int64"
      ]
     },
     "execution_count": 14,
     "metadata": {},
     "output_type": "execute_result"
    }
   ],
   "source": [
    "# Return the top 25 least absolute frequent stopwords\n",
    "word_counter_stopwords(list(sentence['sentence']))[-25:]"
   ]
  },
  {
   "cell_type": "code",
   "execution_count": 11,
   "id": "fa8f8736-369e-4976-9eed-b03572764c66",
   "metadata": {},
   "outputs": [],
   "source": [
    "def word_counter(text_list):\n",
    "    \"\"\"\n",
    "    Function that receives a list of strings and returns the (absolute) frequency of each word in that list of strings.\n",
    "    \"\"\"\n",
    "    words_in_df = ' '.join(text_list).split()\n",
    "    \n",
    "    # Count all words \n",
    "    freq = pd.Series(words_in_df).value_counts()\n",
    "    return freq"
   ]
  },
  {
   "cell_type": "code",
   "execution_count": 16,
   "id": "9ddf9210-26b2-4a14-b6de-c1c32bb94f8b",
   "metadata": {},
   "outputs": [
    {
     "data": {
      "text/plain": [
       ".           10600\n",
       ",            5738\n",
       "you          3502\n",
       "I            3208\n",
       "to           2862\n",
       "the          2703\n",
       "?            2696\n",
       "a            2320\n",
       "!            1608\n",
       "[PERSON]     1386\n",
       "of           1358\n",
       "and          1266\n",
       "me           1195\n",
       "it           1193\n",
       "that         1156\n",
       "in           1083\n",
       "You           950\n",
       "is            902\n",
       "for           847\n",
       "be            761\n",
       "this          757\n",
       "I'm           738\n",
       "have          727\n",
       "your          690\n",
       "my            678\n",
       "dtype: int64"
      ]
     },
     "execution_count": 16,
     "metadata": {},
     "output_type": "execute_result"
    }
   ],
   "source": [
    "# Return the top 25 most absolute frequent tokens\n",
    "word_counter(list(sentence['sentence']))[:25]"
   ]
  },
  {
   "cell_type": "code",
   "execution_count": 30,
   "id": "a51d1845-8555-47f2-95df-e577ddda7bb9",
   "metadata": {},
   "outputs": [
    {
     "data": {
      "text/plain": [
       "8855"
      ]
     },
     "execution_count": 30,
     "metadata": {},
     "output_type": "execute_result"
    }
   ],
   "source": [
    "# The total number of different tokens are 8855\n",
    "len(word_counter(list(sentence['sentence'])))"
   ]
  },
  {
   "cell_type": "markdown",
   "id": "65301e2f-78fc-44c0-a490-decd56e9c95d",
   "metadata": {},
   "source": [
    "### 2.2. What tags exist in the sentences?"
   ]
  },
  {
   "cell_type": "code",
   "execution_count": 4,
   "id": "6bf2b546-a48b-4191-820d-535c3207297e",
   "metadata": {},
   "outputs": [
    {
     "data": {
      "text/plain": [
       "{'[LOCATION]', '[PERSON]'}"
      ]
     },
     "execution_count": 4,
     "metadata": {},
     "output_type": "execute_result"
    }
   ],
   "source": [
    "l = sentence.loc[sentence.sentence.str.contains('(\\[\\w+\\])')].sentence.values\n",
    "s=[]\n",
    "for i in l:\n",
    "    s.extend(re.findall(\"(\\[\\w+\\])\", i))\n",
    "set(s)"
   ]
  },
  {
   "cell_type": "markdown",
   "id": "b18f69a1-ccd9-438c-9161-122c68bc9580",
   "metadata": {},
   "source": [
    "### 2.3. How digitis appear in sentences?"
   ]
  },
  {
   "cell_type": "code",
   "execution_count": 10,
   "id": "9df76dd4-2b87-4e38-880c-f6996976a674",
   "metadata": {},
   "outputs": [
    {
     "data": {
      "text/plain": [
       "array([',000 , telegrams demanding that he yield this floor .',\n",
       "       \"I'll be yours if you don't kick in with that $ 10 .\",\n",
       "       'Did I spend 9 , years with matadors not to learn about fear and safety ?',\n",
       "       'When I came here , I thought this was gonna be a 30 - day stretch , maybe 60 .',\n",
       "       'They say he killed a man when he was 12 , years old .',\n",
       "       \"Besides , according to your story , you weren't exactly 100 % scientist after you took it .\",\n",
       "       'So after 129 , hours of being buried alive , at last , freedom seems in sight .',\n",
       "       \"We've been kicking ass for 200 , years !\",\n",
       "       'The hero of 50,000 , boys and 100,000 , parents .',\n",
       "       \"It's hard to believe that you haven't had sex for 200 , years .\"],\n",
       "      dtype=object)"
      ]
     },
     "execution_count": 10,
     "metadata": {},
     "output_type": "execute_result"
    }
   ],
   "source": [
    "sentence.loc[sentence.sentence.str.contains('\\d')].sentence.values[:10]"
   ]
  },
  {
   "cell_type": "markdown",
   "id": "8c4f9a85-3989-4431-8267-c5f8274c5c8f",
   "metadata": {},
   "source": [
    "### 2.4. Words with contractions but that are not part of the stop_words"
   ]
  },
  {
   "cell_type": "code",
   "execution_count": 5,
   "id": "452908d8-8b99-48d6-99ca-cb1d8c79354c",
   "metadata": {},
   "outputs": [
    {
     "data": {
      "text/plain": [
       "[\"lady's\",\n",
       " \"scarecrow's\",\n",
       " \"night's\",\n",
       " \"shooter's\",\n",
       " \"neighbor's\",\n",
       " \"beast's\",\n",
       " \"here's\",\n",
       " \"god's\",\n",
       " \"official's\",\n",
       " \"mama's\"]"
      ]
     },
     "execution_count": 5,
     "metadata": {},
     "output_type": "execute_result"
    }
   ],
   "source": [
    "l = sentence.loc[sentence.sentence.str.contains(\"\\s\\w+'\\w+\")].sentence.values\n",
    "s=[]\n",
    "for i in l:\n",
    "    s.extend(re.findall(\"\\s\\w+'\\w+\", i))\n",
    "    \n",
    "stop_words = set(stopwords.words(\"english\"))\n",
    "                     \n",
    "n = [w.lower().strip() for w in list(set(s)) if w.lower().strip() not in stop_words]\n",
    "n[:10]"
   ]
  },
  {
   "cell_type": "markdown",
   "id": "1f0d2adc-29c7-4e24-ada8-c4a707b449cd",
   "metadata": {},
   "source": [
    "### 2.5. Distribution Count of Text Lenght and Number of Text Words per Label "
   ]
  },
  {
   "cell_type": "code",
   "execution_count": 17,
   "id": "c8c51860-3791-403e-a2cc-504f6bd87598",
   "metadata": {},
   "outputs": [
    {
     "data": {
      "text/plain": [
       "<AxesSubplot:xlabel='emotion', ylabel='text_word_count'>"
      ]
     },
     "execution_count": 17,
     "metadata": {},
     "output_type": "execute_result"
    },
    {
     "data": {
      "image/png": "[encoded data removed]",
      "text/plain": [
       "<Figure size 1080x432 with 2 Axes>"
      ]
     },
     "metadata": {
      "needs_background": "light"
     },
     "output_type": "display_data"
    }
   ],
   "source": [
    "sentence['text_length'] = sentence['sentence'].astype(str).apply(len)\n",
    "sentence['text_word_count'] = sentence['sentence'].apply(lambda x: len(str(x).split()))\n",
    "\n",
    "fig, axes = plt.subplots(1, 2, figsize=(15, 6))\n",
    "sns.histplot(sentence['text_length'],ax=axes[0])\n",
    "sns.boxplot(x=\"emotion\", y=\"text_word_count\", data=sentence,ax=axes[1])"
   ]
  },
  {
   "cell_type": "markdown",
   "id": "5dd61aac-be4d-4af7-b258-c4368fb9163f",
   "metadata": {},
   "source": [
    "### 2.6. Label Counting "
   ]
  },
  {
   "cell_type": "code",
   "execution_count": null,
   "id": "41556742-59c3-4e40-ac30-b10d542d9256",
   "metadata": {},
   "outputs": [],
   "source": [
    "# The worst results are for the labels 3, 4,6 and 7, which are the ones with less training data available"
   ]
  },
  {
   "cell_type": "code",
   "execution_count": 7,
   "id": "e58b25b2-e8d2-4107-8ffd-fc19c1e095ad",
   "metadata": {},
   "outputs": [
    {
     "data": {
      "text/plain": [
       "<AxesSubplot:xlabel='emotion'>"
      ]
     },
     "execution_count": 7,
     "metadata": {},
     "output_type": "execute_result"
    },
    {
     "data": {
      "image/png": "[encoded data removed]",
      "text/plain": [
       "<Figure size 720x432 with 1 Axes>"
      ]
     },
     "metadata": {
      "needs_background": "light"
     },
     "output_type": "display_data"
    }
   ],
   "source": [
    "sentence.groupby('emotion').count().plot.bar(figsize=(10,6))"
   ]
  },
  {
   "cell_type": "code",
   "execution_count": 8,
   "id": "f5b7914e-9ad3-4bc2-b3ec-af6ae7da3de0",
   "metadata": {},
   "outputs": [
    {
     "data": {
      "text/plain": [
       "<AxesSubplot:xlabel='emotion'>"
      ]
     },
     "execution_count": 8,
     "metadata": {},
     "output_type": "execute_result"
    },
    {
     "data": {
      "image/png": "[encoded data removed]",
      "text/plain": [
       "<Figure size 720x432 with 1 Axes>"
      ]
     },
     "metadata": {
      "needs_background": "light"
     },
     "output_type": "display_data"
    }
   ],
   "source": [
    "dev_set.groupby('emotion').count().plot.bar(figsize=(10,6))"
   ]
  },
  {
   "cell_type": "markdown",
   "id": "4d7b5865-745d-4cc0-96f1-c4e2c4b1c3b8",
   "metadata": {},
   "source": [
    "### 2.7. Most Frequent Unigrams, Bigrams and Trigrams per Label "
   ]
  },
  {
   "cell_type": "code",
   "execution_count": 5,
   "id": "36ee51d0-dffe-41fb-9191-3c883337eeb7",
   "metadata": {
    "scrolled": true,
    "tags": []
   },
   "outputs": [
    {
     "data": {
      "image/png": "[encoded data removed]",
      "text/plain": [
       "<Figure size 1080x432 with 3 Axes>"
      ]
     },
     "metadata": {
      "needs_background": "light"
     },
     "output_type": "display_data"
    },
    {
     "data": {
      "image/png": "[encoded data removed]",
      "text/plain": [
       "<Figure size 1080x432 with 3 Axes>"
      ]
     },
     "metadata": {
      "needs_background": "light"
     },
     "output_type": "display_data"
    },
    {
     "data": {
      "image/png": "[encoded data removed]",
      "text/plain": [
       "<Figure size 1080x432 with 3 Axes>"
      ]
     },
     "metadata": {
      "needs_background": "light"
     },
     "output_type": "display_data"
    },
    {
     "data": {
      "image/png": "[encoded data removed]",
      "text/plain": [
       "<Figure size 1080x432 with 3 Axes>"
      ]
     },
     "metadata": {
      "needs_background": "light"
     },
     "output_type": "display_data"
    },
    {
     "data": {
      "image/png": "[encoded data removed]",
      "text/plain": [
       "<Figure size 1080x432 with 3 Axes>"
      ]
     },
     "metadata": {
      "needs_background": "light"
     },
     "output_type": "display_data"
    },
    {
     "data": {
      "image/png": "[encoded data removed]",
      "text/plain": [
       "<Figure size 1080x432 with 3 Axes>"
      ]
     },
     "metadata": {
      "needs_background": "light"
     },
     "output_type": "display_data"
    },
    {
     "data": {
      "image/png": "[encoded data removed]",
      "text/plain": [
       "<Figure size 1080x432 with 3 Axes>"
      ]
     },
     "metadata": {
      "needs_background": "light"
     },
     "output_type": "display_data"
    },
    {
     "data": {
      "image/png": "[encoded data removed]",
      "text/plain": [
       "<Figure size 1080x432 with 3 Axes>"
      ]
     },
     "metadata": {
      "needs_background": "light"
     },
     "output_type": "display_data"
    }
   ],
   "source": [
    "#adapted from https://www.kaggle.com/code/parulpandey/exploratory-data-analysis-of-the-emotion-dataset\n",
    "def get_top_n_gram(corpus,ngram_range,n=None):\n",
    "    vec = CountVectorizer(ngram_range=ngram_range,stop_words = 'english').fit(corpus) #tokenizer=preprocessing_tok\n",
    "    bag_of_words = vec.transform(corpus)\n",
    "    sum_words = bag_of_words.sum(axis=0) \n",
    "    words_freq = [(word, sum_words[0, idx]) for word, idx in vec.vocabulary_.items()]\n",
    "    words_freq =sorted(words_freq, key = lambda x: x[1], reverse=True)\n",
    "    return words_freq[:n]\n",
    "\n",
    "def get_top_n_gram_tfidf(corpus,ngram_range,n=None):\n",
    "    Tfidf = TfidfVectorizer(\n",
    "            max_df=0.9,\n",
    "            max_features=10000, \n",
    "            ngram_range=ngram_range,\n",
    "            tokenizer=preprocessing_tok\n",
    "            )\n",
    "    bag_of_words = Tfidf.fit_transform(corpus)\n",
    "    sum_words = bag_of_words.sum(axis=0) \n",
    "    words_freq = [(word, sum_words[0, idx]) for word, idx in vec.vocabulary_.items()]\n",
    "    words_freq =sorted(words_freq, key = lambda x: x[1], reverse=True)\n",
    "    return words_freq[:n]\n",
    "\n",
    "def plot_count_grams(df):    \n",
    "    for i in list(df.emotion.unique()):\n",
    "        emo = df.loc[df.emotion==i].sentence.values\n",
    "        unigrams = get_top_n_gram(emo,(1,1),7)[2:]\n",
    "        bigrams = get_top_n_gram(emo,(2,2),7)[2:]\n",
    "        trigrams = get_top_n_gram(emo,(3,3),7)[2:]\n",
    "\n",
    "        condlist= [i==1,i==2,i==3,i==4,i==5,i==6,i==7,i==8]\n",
    "        choicelist = ['Anger','Anticipation','Disgust','Fear','Joy','Sadness','Surprise','Trust']\n",
    "\n",
    "        fig, axes = plt.subplots(1, 3, figsize=(15, 6), sharey=True)\n",
    "        fig.suptitle('Emotion : {}'.format(np.select(condlist, choicelist).item()))\n",
    "\n",
    "        sns.barplot( list(dict(unigrams).keys()), list(dict(unigrams).values()),ax=axes[0],)\n",
    "        axes[0].set_title('Unigrams')\n",
    "        axes[0].tick_params(labelrotation=45)\n",
    "\n",
    "        sns.barplot( list(dict(bigrams).keys()), list(dict(bigrams).values()),ax=axes[1],)\n",
    "        axes[1].set_title('Bigrams')\n",
    "        axes[1].tick_params(labelrotation=45)\n",
    "\n",
    "\n",
    "        sns.barplot( list(dict(trigrams).keys()), list(dict(trigrams).values()),ax=axes[2],)\n",
    "        axes[2].set_title('Trigrams')\n",
    "        axes[2].tick_params(labelrotation=45)\n",
    "\n",
    "plot_count_grams(sentence)"
   ]
  },
  {
   "cell_type": "markdown",
   "id": "291bb099-d053-4d1a-82fd-8066bd064715",
   "metadata": {},
   "source": [
    "## 3. Pre-processing and Feature Extraction "
   ]
  },
  {
   "cell_type": "code",
   "execution_count": 6,
   "id": "9c087ed1-7486-4c6d-a9e2-807096978821",
   "metadata": {},
   "outputs": [],
   "source": [
    "#define preprocessing function that will be used in the TfidfVectorizer\n",
    "def preprocessing_tok1(text):\n",
    "    '''\n",
    "        This function do all the steps of preprocessing of text. It is passed in the TF-IDF vectorizer and\n",
    "        receives a text and return a list with token pre processed:\n",
    "        \n",
    "        Input: 'I'm too old to be traded in .'\n",
    "        Output: ['old', 'traded']\n",
    "    '''\n",
    "    processed_corpus = []\n",
    "    stop_words = set(stopwords.words(\"english\"))\n",
    "    stop_words.remove('not')\n",
    "\n",
    "    # Convert to lowercase\n",
    "    text = text.lower()        \n",
    "    \n",
    "    # Remove punctuations\n",
    "    text = re.sub('(\\[location\\]|\\[person\\]|[^a-zA-Z])', ' ', text)\n",
    "    \n",
    "    # Convert to list from string\n",
    "    text = text.split()\n",
    "    \n",
    "    # Lemmatization\n",
    "    lem = WordNetLemmatizer()\n",
    "    text = [lem.lemmatize(word) for word in text if not word in stop_words] \n",
    "        \n",
    "    return text"
   ]
  },
  {
   "cell_type": "code",
   "execution_count": null,
   "id": "bc1b20dd-c107-49ca-a8d8-bb512c9e4394",
   "metadata": {},
   "outputs": [],
   "source": [
    "#transforme a corpus into a Tfidf matrix (n,m) where n is the number of texts and m the words\n",
    "TfidfVec = TfidfVectorizer(\n",
    "            max_df=0.9,\n",
    "            max_features=10000, \n",
    "            ngram_range=(1,3),\n",
    "            tokenizer=preprocessing_tok1\n",
    "            )\n",
    "\n",
    "#Tfidf matrix of training set\n",
    "Tfidf_matrix = TfidfVec.fit_transform(sentence.sentence.values)\n",
    "#Tfidf matrix of validation set\n",
    "Tfidf_matrix_val = TfidfVec.transform(dev_set.sentence.values)"
   ]
  },
  {
   "cell_type": "markdown",
   "id": "a7039db8-a676-4920-8ce2-16831d50474a",
   "metadata": {},
   "source": [
    "## 4. Classifier"
   ]
  },
  {
   "cell_type": "code",
   "execution_count": 35,
   "id": "6ca248b9-2a13-4fbe-b225-2c1c0a2d5d3c",
   "metadata": {},
   "outputs": [],
   "source": [
    "#function that show results for several classifiers \n",
    "def Classifier_tester(X,y,x_val,y_val):\n",
    "    '''\n",
    "        This function train several different models for the same training set and compare results\n",
    "        Input: \n",
    "            X: array matrix of features\n",
    "            y: array 1d of training labels\n",
    "            x_val: array matrix of features with the validation set\n",
    "            y_val: array 1d with ground truth of validation labels\n",
    "        Output:\n",
    "            DataFrame with the results\n",
    "    \n",
    "    '''\n",
    "    clf_list =[\n",
    "              MultinomialNB(),\n",
    "              BaggingClassifier (MultinomialNB()),\n",
    "              BernoulliNB(),\n",
    "              GaussianNB(),\n",
    "              RandomForestClassifier(max_depth=5,class_weight='balanced'),\n",
    "              SVC(kernel='linear'),\n",
    "              KNeighborsClassifier(n_neighbors=5),\n",
    "              MLPClassifier(hidden_layer_sizes=(5,5,3)),\n",
    "              LogisticRegression(class_weight='balanced'),\n",
    "              BaggingClassifier ( LogisticRegression(class_weight='balanced'))\n",
    "             ]\n",
    "    \n",
    "    #save the list of category names in the order they appear in class. report.\n",
    "    x = dev_set.emotion.unique()\n",
    "    condlist= [x==1,x==2,x==3,x==4,x==5,x==6,x==7,x==8]\n",
    "    choicelist = ['Anger','Anticipation','Disgust','Fear','Joy','Sadness','Surprise','Trust']\n",
    "    category_names = list(np.select(condlist, choicelist))\n",
    "    \n",
    "    results = dict()\n",
    "    \n",
    "    for clf in clf_list:\n",
    "        \n",
    "        print('Training: ',str(clf))\n",
    "    \n",
    "        #train the clf\n",
    "        clf.fit(X,y)\n",
    "\n",
    "        #predict for new sentences of the dev set\n",
    "        y_pred = clf.predict(x_val)\n",
    "            \n",
    "        #saves result in dict\n",
    "        cls_rep = classification_report(y_pred, y_val, target_names=category_names,zero_division=1,output_dict=True)\n",
    "        \n",
    "        #delete the support metric\n",
    "        cls_rep['weighted avg'].pop(\"support\")\n",
    "        \n",
    "        #add the accuracy metric\n",
    "        cls_rep['weighted avg'].update({'accuracy':cls_rep['accuracy']})\n",
    "        \n",
    "        #save the weighted avg metrics in the classifer name key\n",
    "        results[str(clf)] = cls_rep['weighted avg']\n",
    "        \n",
    "    return pd.DataFrame(results).round(2)"
   ]
  },
  {
   "cell_type": "markdown",
   "id": "4325ac84-67f0-4935-bdc5-dec9b1e4675a",
   "metadata": {},
   "source": [
    "## 5. Model Training and Results"
   ]
  },
  {
   "cell_type": "markdown",
   "id": "9693313c-0b18-462c-a165-da3cfce935f4",
   "metadata": {},
   "source": [
    "### 5.1. Standard Results "
   ]
  },
  {
   "cell_type": "code",
   "execution_count": 87,
   "id": "4a3aa972-4107-49b5-b91b-7382a10135ba",
   "metadata": {
    "tags": []
   },
   "outputs": [
    {
     "name": "stdout",
     "output_type": "stream",
     "text": [
      "Training:  MultinomialNB()\n",
      "Training:  BaggingClassifier(base_estimator=MultinomialNB())\n",
      "Training:  BernoulliNB()\n",
      "Training:  GaussianNB()\n",
      "Training:  RandomForestClassifier(class_weight='balanced', max_depth=5)\n",
      "Training:  SVC(kernel='linear')\n",
      "Training:  KNeighborsClassifier()\n",
      "Training:  MLPClassifier(hidden_layer_sizes=(5, 5, 3))\n",
      "Training:  LogisticRegression(class_weight='balanced')\n",
      "Training:  BaggingClassifier(base_estimator=LogisticRegression(class_weight='balanced'))\n"
     ]
    },
    {
     "data": {
      "text/html": [
       "<div>\n",
       "<style scoped>\n",
       "    .dataframe tbody tr th:only-of-type {\n",
       "        vertical-align: middle;\n",
       "    }\n",
       "\n",
       "    .dataframe tbody tr th {\n",
       "        vertical-align: top;\n",
       "    }\n",
       "\n",
       "    .dataframe thead th {\n",
       "        text-align: right;\n",
       "    }\n",
       "</style>\n",
       "<table border=\"1\" class=\"dataframe\">\n",
       "  <thead>\n",
       "    <tr style=\"text-align: right;\">\n",
       "      <th></th>\n",
       "      <th>MultinomialNB()</th>\n",
       "      <th>BaggingClassifier(base_estimator=MultinomialNB())</th>\n",
       "      <th>BernoulliNB()</th>\n",
       "      <th>GaussianNB()</th>\n",
       "      <th>RandomForestClassifier(class_weight='balanced', max_depth=5)</th>\n",
       "      <th>SVC(kernel='linear')</th>\n",
       "      <th>KNeighborsClassifier()</th>\n",
       "      <th>MLPClassifier(hidden_layer_sizes=(5, 5, 3))</th>\n",
       "      <th>LogisticRegression(class_weight='balanced')</th>\n",
       "      <th>BaggingClassifier(base_estimator=LogisticRegression(class_weight='balanced'))</th>\n",
       "    </tr>\n",
       "  </thead>\n",
       "  <tbody>\n",
       "    <tr>\n",
       "      <th>precision</th>\n",
       "      <td>0.63</td>\n",
       "      <td>0.63</td>\n",
       "      <td>0.75</td>\n",
       "      <td>0.36</td>\n",
       "      <td>0.45</td>\n",
       "      <td>0.45</td>\n",
       "      <td>0.30</td>\n",
       "      <td>0.27</td>\n",
       "      <td>0.36</td>\n",
       "      <td>0.35</td>\n",
       "    </tr>\n",
       "    <tr>\n",
       "      <th>recall</th>\n",
       "      <td>0.35</td>\n",
       "      <td>0.35</td>\n",
       "      <td>0.29</td>\n",
       "      <td>0.19</td>\n",
       "      <td>0.27</td>\n",
       "      <td>0.36</td>\n",
       "      <td>0.26</td>\n",
       "      <td>0.26</td>\n",
       "      <td>0.35</td>\n",
       "      <td>0.35</td>\n",
       "    </tr>\n",
       "    <tr>\n",
       "      <th>f1-score</th>\n",
       "      <td>0.40</td>\n",
       "      <td>0.40</td>\n",
       "      <td>0.37</td>\n",
       "      <td>0.21</td>\n",
       "      <td>0.29</td>\n",
       "      <td>0.38</td>\n",
       "      <td>0.27</td>\n",
       "      <td>0.26</td>\n",
       "      <td>0.34</td>\n",
       "      <td>0.35</td>\n",
       "    </tr>\n",
       "    <tr>\n",
       "      <th>accuracy</th>\n",
       "      <td>0.35</td>\n",
       "      <td>0.35</td>\n",
       "      <td>0.29</td>\n",
       "      <td>0.19</td>\n",
       "      <td>0.27</td>\n",
       "      <td>0.36</td>\n",
       "      <td>0.26</td>\n",
       "      <td>0.26</td>\n",
       "      <td>0.35</td>\n",
       "      <td>0.35</td>\n",
       "    </tr>\n",
       "  </tbody>\n",
       "</table>\n",
       "</div>"
      ],
      "text/plain": [
       "           MultinomialNB()  BaggingClassifier(base_estimator=MultinomialNB())  \\\n",
       "precision             0.63                                               0.63   \n",
       "recall                0.35                                               0.35   \n",
       "f1-score              0.40                                               0.40   \n",
       "accuracy              0.35                                               0.35   \n",
       "\n",
       "           BernoulliNB()  GaussianNB()  \\\n",
       "precision           0.75          0.36   \n",
       "recall              0.29          0.19   \n",
       "f1-score            0.37          0.21   \n",
       "accuracy            0.29          0.19   \n",
       "\n",
       "           RandomForestClassifier(class_weight='balanced', max_depth=5)  \\\n",
       "precision                                               0.45              \n",
       "recall                                                  0.27              \n",
       "f1-score                                                0.29              \n",
       "accuracy                                                0.27              \n",
       "\n",
       "           SVC(kernel='linear')  KNeighborsClassifier()  \\\n",
       "precision                  0.45                    0.30   \n",
       "recall                     0.36                    0.26   \n",
       "f1-score                   0.38                    0.27   \n",
       "accuracy                   0.36                    0.26   \n",
       "\n",
       "           MLPClassifier(hidden_layer_sizes=(5, 5, 3))  \\\n",
       "precision                                         0.27   \n",
       "recall                                            0.26   \n",
       "f1-score                                          0.26   \n",
       "accuracy                                          0.26   \n",
       "\n",
       "           LogisticRegression(class_weight='balanced')  \\\n",
       "precision                                         0.36   \n",
       "recall                                            0.35   \n",
       "f1-score                                          0.34   \n",
       "accuracy                                          0.35   \n",
       "\n",
       "           BaggingClassifier(base_estimator=LogisticRegression(class_weight='balanced'))  \n",
       "precision                                               0.35                              \n",
       "recall                                                  0.35                              \n",
       "f1-score                                                0.35                              \n",
       "accuracy                                                0.35                              "
      ]
     },
     "execution_count": 87,
     "metadata": {},
     "output_type": "execute_result"
    }
   ],
   "source": [
    "#Training arrays\n",
    "X= Tfidf_matrix.toarray()\n",
    "y = sentence.emotion.values\n",
    "\n",
    "#Validation arrays\n",
    "x_val = Tfidf_matrix_val.toarray()\n",
    "y_val = dev_set.emotion.values\n",
    "\n",
    "Classifier_tester(X,y,x_val,y_val)"
   ]
  },
  {
   "cell_type": "markdown",
   "id": "2a9bc608",
   "metadata": {},
   "source": [
    "### 5.2. Results with oversampling "
   ]
  },
  {
   "cell_type": "markdown",
   "id": "cbac271e-46c3-4bb6-89a7-b21950377942",
   "metadata": {},
   "source": [
    "#### 5.2.1. SMOTE"
   ]
  },
  {
   "cell_type": "code",
   "execution_count": 7,
   "id": "6078fa66",
   "metadata": {},
   "outputs": [],
   "source": [
    "#function that show results for several classifiers \n",
    "def Classifier_tester_non_balanced(X,y,x_val,y_val):\n",
    "    '''\n",
    "        This function train several different models for the same training set and compare results\n",
    "        Input: \n",
    "            X: array matrix of features\n",
    "            y: array 1d of training labels\n",
    "            x_val: array matrix of features with the validation set\n",
    "            y_val: array 1d with ground truth of validation labels\n",
    "        Output:\n",
    "            DataFrame with the results\n",
    "    \n",
    "    '''\n",
    "    \n",
    "    # The algorithms with the parameter 'class weight' defined as balanced on the subchapter 5.1. were removed \n",
    "    clf_list =[\n",
    "              MultinomialNB(),\n",
    "              BaggingClassifier (MultinomialNB()),\n",
    "              BernoulliNB(),\n",
    "              GaussianNB(),\n",
    "              RandomForestClassifier(max_depth=5),\n",
    "              SVC(kernel='linear'),\n",
    "              KNeighborsClassifier(n_neighbors=5),\n",
    "              MLPClassifier(hidden_layer_sizes=(5,5,3)),\n",
    "              LogisticRegression(),\n",
    "              BaggingClassifier ( LogisticRegression())\n",
    "             ]\n",
    "    \n",
    "    #save the list of category names in the order they appear in class. report.\n",
    "    x = dev_set.emotion.unique()\n",
    "    condlist= [x==1,x==2,x==3,x==4,x==5,x==6,x==7,x==8]\n",
    "    choicelist = ['Anger','Anticipation','Disgust','Fear','Joy','Sadness','Surprise','Trust']\n",
    "    category_names = list(np.select(condlist, choicelist))\n",
    "    \n",
    "    results = dict()\n",
    "    for clf in clf_list:\n",
    "        \n",
    "        print('Training: ',str(clf))\n",
    "    \n",
    "        #train the clf\n",
    "        clf.fit(X,y)\n",
    "\n",
    "        #predict for new sentences of the dev set\n",
    "        y_pred = clf.predict(x_val)\n",
    "            \n",
    "        #saves result in dict\n",
    "        cls_rep = classification_report(y_pred, y_val, target_names=category_names,zero_division=1,output_dict=True)\n",
    "        \n",
    "        #delete the support metric\n",
    "        cls_rep['weighted avg'].pop(\"support\")\n",
    "        \n",
    "        #add the accuracy metric\n",
    "        cls_rep['weighted avg'].update({'accuracy':cls_rep['accuracy']})\n",
    "        \n",
    "        #save the weighted avg metrics in the classifer name key\n",
    "        results[str(clf)] = cls_rep['weighted avg']\n",
    "        \n",
    "    return pd.DataFrame(results).round(2)"
   ]
  },
  {
   "cell_type": "code",
   "execution_count": 9,
   "id": "8c9adbd6",
   "metadata": {
    "tags": []
   },
   "outputs": [
    {
     "name": "stdout",
     "output_type": "stream",
     "text": [
      "Training:  MultinomialNB()\n",
      "Training:  BaggingClassifier(base_estimator=MultinomialNB())\n",
      "Training:  BernoulliNB()\n",
      "Training:  GaussianNB()\n",
      "Training:  RandomForestClassifier(max_depth=5)\n",
      "Training:  SVC(kernel='linear')\n",
      "Training:  KNeighborsClassifier()\n",
      "Training:  MLPClassifier(hidden_layer_sizes=(5, 5, 3))\n",
      "Training:  LogisticRegression()\n",
      "Training:  BaggingClassifier(base_estimator=LogisticRegression())\n"
     ]
    },
    {
     "data": {
      "text/html": [
       "<div>\n",
       "<style scoped>\n",
       "    .dataframe tbody tr th:only-of-type {\n",
       "        vertical-align: middle;\n",
       "    }\n",
       "\n",
       "    .dataframe tbody tr th {\n",
       "        vertical-align: top;\n",
       "    }\n",
       "\n",
       "    .dataframe thead th {\n",
       "        text-align: right;\n",
       "    }\n",
       "</style>\n",
       "<table border=\"1\" class=\"dataframe\">\n",
       "  <thead>\n",
       "    <tr style=\"text-align: right;\">\n",
       "      <th></th>\n",
       "      <th>MultinomialNB()</th>\n",
       "      <th>BaggingClassifier(base_estimator=MultinomialNB())</th>\n",
       "      <th>BernoulliNB()</th>\n",
       "      <th>GaussianNB()</th>\n",
       "      <th>RandomForestClassifier(max_depth=5)</th>\n",
       "      <th>SVC(kernel='linear')</th>\n",
       "      <th>KNeighborsClassifier()</th>\n",
       "      <th>MLPClassifier(hidden_layer_sizes=(5, 5, 3))</th>\n",
       "      <th>LogisticRegression()</th>\n",
       "      <th>BaggingClassifier(base_estimator=LogisticRegression())</th>\n",
       "    </tr>\n",
       "  </thead>\n",
       "  <tbody>\n",
       "    <tr>\n",
       "      <th>precision</th>\n",
       "      <td>0.35</td>\n",
       "      <td>0.33</td>\n",
       "      <td>0.34</td>\n",
       "      <td>0.36</td>\n",
       "      <td>0.40</td>\n",
       "      <td>0.33</td>\n",
       "      <td>0.28</td>\n",
       "      <td>0.29</td>\n",
       "      <td>0.34</td>\n",
       "      <td>0.33</td>\n",
       "    </tr>\n",
       "    <tr>\n",
       "      <th>recall</th>\n",
       "      <td>0.34</td>\n",
       "      <td>0.33</td>\n",
       "      <td>0.31</td>\n",
       "      <td>0.19</td>\n",
       "      <td>0.25</td>\n",
       "      <td>0.32</td>\n",
       "      <td>0.25</td>\n",
       "      <td>0.15</td>\n",
       "      <td>0.34</td>\n",
       "      <td>0.33</td>\n",
       "    </tr>\n",
       "    <tr>\n",
       "      <th>f1-score</th>\n",
       "      <td>0.34</td>\n",
       "      <td>0.33</td>\n",
       "      <td>0.31</td>\n",
       "      <td>0.21</td>\n",
       "      <td>0.25</td>\n",
       "      <td>0.32</td>\n",
       "      <td>0.25</td>\n",
       "      <td>0.16</td>\n",
       "      <td>0.33</td>\n",
       "      <td>0.32</td>\n",
       "    </tr>\n",
       "    <tr>\n",
       "      <th>accuracy</th>\n",
       "      <td>0.34</td>\n",
       "      <td>0.33</td>\n",
       "      <td>0.31</td>\n",
       "      <td>0.19</td>\n",
       "      <td>0.25</td>\n",
       "      <td>0.32</td>\n",
       "      <td>0.25</td>\n",
       "      <td>0.15</td>\n",
       "      <td>0.34</td>\n",
       "      <td>0.33</td>\n",
       "    </tr>\n",
       "  </tbody>\n",
       "</table>\n",
       "</div>"
      ],
      "text/plain": [
       "           MultinomialNB()  BaggingClassifier(base_estimator=MultinomialNB())  \\\n",
       "precision             0.35                                               0.33   \n",
       "recall                0.34                                               0.33   \n",
       "f1-score              0.34                                               0.33   \n",
       "accuracy              0.34                                               0.33   \n",
       "\n",
       "           BernoulliNB()  GaussianNB()  RandomForestClassifier(max_depth=5)  \\\n",
       "precision           0.34          0.36                                 0.40   \n",
       "recall              0.31          0.19                                 0.25   \n",
       "f1-score            0.31          0.21                                 0.25   \n",
       "accuracy            0.31          0.19                                 0.25   \n",
       "\n",
       "           SVC(kernel='linear')  KNeighborsClassifier()  \\\n",
       "precision                  0.33                    0.28   \n",
       "recall                     0.32                    0.25   \n",
       "f1-score                   0.32                    0.25   \n",
       "accuracy                   0.32                    0.25   \n",
       "\n",
       "           MLPClassifier(hidden_layer_sizes=(5, 5, 3))  LogisticRegression()  \\\n",
       "precision                                         0.29                  0.34   \n",
       "recall                                            0.15                  0.34   \n",
       "f1-score                                          0.16                  0.33   \n",
       "accuracy                                          0.15                  0.34   \n",
       "\n",
       "           BaggingClassifier(base_estimator=LogisticRegression())  \n",
       "precision                                               0.33       \n",
       "recall                                                  0.33       \n",
       "f1-score                                                0.32       \n",
       "accuracy                                                0.33       "
      ]
     },
     "execution_count": 9,
     "metadata": {},
     "output_type": "execute_result"
    }
   ],
   "source": [
    "# SMOTE \n",
    "\n",
    "sm = SMOTE(\n",
    "    sampling_strategy = 'auto',      # Means it will only sample from the minority class\n",
    "    random_state = 0,                # reproducibility\n",
    "    k_neighbors = 5)                 # how many neighbours\n",
    "\n",
    "X_res, y_res = sm.fit_resample(Tfidf_matrix.toarray(), sentence.emotion.values)\n",
    "\n",
    "Classifier_tester_non_balanced(X_res,y_res,x_val,y_val)"
   ]
  },
  {
   "cell_type": "markdown",
   "id": "52d2f2c3",
   "metadata": {},
   "source": [
    "#### 5.2.2. ADASYN\n"
   ]
  },
  {
   "cell_type": "code",
   "execution_count": 12,
   "id": "fa61ff85",
   "metadata": {},
   "outputs": [
    {
     "name": "stdout",
     "output_type": "stream",
     "text": [
      "Training:  MultinomialNB()\n",
      "Training:  BaggingClassifier(base_estimator=MultinomialNB())\n",
      "Training:  BernoulliNB()\n",
      "Training:  GaussianNB()\n",
      "Training:  RandomForestClassifier(max_depth=5)\n",
      "Training:  SVC(kernel='linear')\n",
      "Training:  KNeighborsClassifier()\n",
      "Training:  MLPClassifier(hidden_layer_sizes=(5, 5, 3))\n",
      "Training:  LogisticRegression()\n",
      "Training:  BaggingClassifier(base_estimator=LogisticRegression())\n"
     ]
    },
    {
     "data": {
      "text/html": [
       "<div>\n",
       "<style scoped>\n",
       "    .dataframe tbody tr th:only-of-type {\n",
       "        vertical-align: middle;\n",
       "    }\n",
       "\n",
       "    .dataframe tbody tr th {\n",
       "        vertical-align: top;\n",
       "    }\n",
       "\n",
       "    .dataframe thead th {\n",
       "        text-align: right;\n",
       "    }\n",
       "</style>\n",
       "<table border=\"1\" class=\"dataframe\">\n",
       "  <thead>\n",
       "    <tr style=\"text-align: right;\">\n",
       "      <th></th>\n",
       "      <th>MultinomialNB()</th>\n",
       "      <th>BaggingClassifier(base_estimator=MultinomialNB())</th>\n",
       "      <th>BernoulliNB()</th>\n",
       "      <th>GaussianNB()</th>\n",
       "      <th>RandomForestClassifier(max_depth=5)</th>\n",
       "      <th>SVC(kernel='linear')</th>\n",
       "      <th>KNeighborsClassifier()</th>\n",
       "      <th>MLPClassifier(hidden_layer_sizes=(5, 5, 3))</th>\n",
       "      <th>LogisticRegression()</th>\n",
       "      <th>BaggingClassifier(base_estimator=LogisticRegression())</th>\n",
       "    </tr>\n",
       "  </thead>\n",
       "  <tbody>\n",
       "    <tr>\n",
       "      <th>precision</th>\n",
       "      <td>0.36</td>\n",
       "      <td>0.36</td>\n",
       "      <td>0.38</td>\n",
       "      <td>0.36</td>\n",
       "      <td>0.72</td>\n",
       "      <td>0.34</td>\n",
       "      <td>0.28</td>\n",
       "      <td>1.00</td>\n",
       "      <td>0.35</td>\n",
       "      <td>0.35</td>\n",
       "    </tr>\n",
       "    <tr>\n",
       "      <th>recall</th>\n",
       "      <td>0.34</td>\n",
       "      <td>0.34</td>\n",
       "      <td>0.30</td>\n",
       "      <td>0.19</td>\n",
       "      <td>0.19</td>\n",
       "      <td>0.33</td>\n",
       "      <td>0.23</td>\n",
       "      <td>0.10</td>\n",
       "      <td>0.34</td>\n",
       "      <td>0.34</td>\n",
       "    </tr>\n",
       "    <tr>\n",
       "      <th>f1-score</th>\n",
       "      <td>0.34</td>\n",
       "      <td>0.34</td>\n",
       "      <td>0.30</td>\n",
       "      <td>0.21</td>\n",
       "      <td>0.22</td>\n",
       "      <td>0.33</td>\n",
       "      <td>0.24</td>\n",
       "      <td>0.18</td>\n",
       "      <td>0.34</td>\n",
       "      <td>0.34</td>\n",
       "    </tr>\n",
       "    <tr>\n",
       "      <th>accuracy</th>\n",
       "      <td>0.34</td>\n",
       "      <td>0.34</td>\n",
       "      <td>0.30</td>\n",
       "      <td>0.19</td>\n",
       "      <td>0.19</td>\n",
       "      <td>0.33</td>\n",
       "      <td>0.23</td>\n",
       "      <td>0.10</td>\n",
       "      <td>0.34</td>\n",
       "      <td>0.34</td>\n",
       "    </tr>\n",
       "  </tbody>\n",
       "</table>\n",
       "</div>"
      ],
      "text/plain": [
       "           MultinomialNB()  BaggingClassifier(base_estimator=MultinomialNB())  \\\n",
       "precision             0.36                                               0.36   \n",
       "recall                0.34                                               0.34   \n",
       "f1-score              0.34                                               0.34   \n",
       "accuracy              0.34                                               0.34   \n",
       "\n",
       "           BernoulliNB()  GaussianNB()  RandomForestClassifier(max_depth=5)  \\\n",
       "precision           0.38          0.36                                 0.72   \n",
       "recall              0.30          0.19                                 0.19   \n",
       "f1-score            0.30          0.21                                 0.22   \n",
       "accuracy            0.30          0.19                                 0.19   \n",
       "\n",
       "           SVC(kernel='linear')  KNeighborsClassifier()  \\\n",
       "precision                  0.34                    0.28   \n",
       "recall                     0.33                    0.23   \n",
       "f1-score                   0.33                    0.24   \n",
       "accuracy                   0.33                    0.23   \n",
       "\n",
       "           MLPClassifier(hidden_layer_sizes=(5, 5, 3))  LogisticRegression()  \\\n",
       "precision                                         1.00                  0.35   \n",
       "recall                                            0.10                  0.34   \n",
       "f1-score                                          0.18                  0.34   \n",
       "accuracy                                          0.10                  0.34   \n",
       "\n",
       "           BaggingClassifier(base_estimator=LogisticRegression())  \n",
       "precision                                               0.35       \n",
       "recall                                                  0.34       \n",
       "f1-score                                                0.34       \n",
       "accuracy                                                0.34       "
      ]
     },
     "execution_count": 12,
     "metadata": {},
     "output_type": "execute_result"
    }
   ],
   "source": [
    "#ADASYN\n",
    "\n",
    "ada = ADASYN(\n",
    "    sampling_strategy='auto',  # Means it will only sample from the minority class\n",
    "    random_state=0,            # for reproducibility\n",
    "    n_neighbors=5)             # how many neighbours\n",
    "\n",
    "\n",
    "X_ada, y_ada = ada.fit_resample(Tfidf_matrix.toarray(), sentence.emotion.values)\n",
    "\n",
    "\n",
    "Classifier_tester_non_balanced(X_ada,y_ada,x_val,y_val)"
   ]
  },
  {
   "cell_type": "markdown",
   "id": "18cca1fb",
   "metadata": {},
   "source": [
    "### 5.3. Results with Part of Speech Tagging (POS) Preprocessing "
   ]
  },
  {
   "cell_type": "code",
   "execution_count": 17,
   "id": "091cfe18",
   "metadata": {},
   "outputs": [],
   "source": [
    "#define preprocessing function that will be used in the TfidfVectorizer\n",
    "def preprocessing_tok2(text):\n",
    "    '''\n",
    "        This function do all the steps of preprocessing of text. It is passed in the TF-IDF vectorizer and\n",
    "        receives a text and return a list with token pre processed:\n",
    "        \n",
    "        Input: 'I'm too old to be traded in .'\n",
    "        Output: ['old', 'traded']\n",
    "    '''\n",
    "    processed_corpus = []\n",
    "    stop_words = set(stopwords.words(\"english\"))\n",
    "    stop_words.remove('not')\n",
    "\n",
    "    # Convert to lowercase\n",
    "    text = text.lower()        \n",
    "    \n",
    "    # Remove punctuations\n",
    "    text = re.sub('(\\[location\\]|\\[person\\]|[^a-zA-Z])', ' ', text)\n",
    "    \n",
    "    # Convert to list from string\n",
    "    #text = text.split()\n",
    "    \n",
    "    # POS Tagging\n",
    "    text = nltk.pos_tag(nltk.word_tokenize(text))\n",
    "        # Tuple format\n",
    "    #text = \" \".join(str(x) for x in text)\n",
    "        # Normal format\n",
    "    text = \" \".join(\" \".join(x) for x in text)\n",
    "    \n",
    "    # Lemmatization\n",
    "    lem = WordNetLemmatizer()\n",
    "    text = [lem.lemmatize(word) for word in text if not word in stop_words] \n",
    "        \n",
    "    return text"
   ]
  },
  {
   "cell_type": "code",
   "execution_count": 19,
   "id": "0d737a9d",
   "metadata": {},
   "outputs": [
    {
     "name": "stdout",
     "output_type": "stream",
     "text": [
      "Training:  MultinomialNB()\n",
      "Training:  BaggingClassifier(base_estimator=MultinomialNB())\n",
      "Training:  BernoulliNB()\n",
      "Training:  GaussianNB()\n",
      "Training:  RandomForestClassifier(class_weight='balanced', max_depth=5)\n",
      "Training:  SVC(kernel='linear')\n",
      "Training:  KNeighborsClassifier()\n",
      "Training:  MLPClassifier(hidden_layer_sizes=(5, 5, 3))\n",
      "Training:  LogisticRegression(class_weight='balanced')\n",
      "Training:  BaggingClassifier(base_estimator=LogisticRegression(class_weight='balanced'))\n"
     ]
    },
    {
     "data": {
      "text/html": [
       "<div>\n",
       "<style scoped>\n",
       "    .dataframe tbody tr th:only-of-type {\n",
       "        vertical-align: middle;\n",
       "    }\n",
       "\n",
       "    .dataframe tbody tr th {\n",
       "        vertical-align: top;\n",
       "    }\n",
       "\n",
       "    .dataframe thead th {\n",
       "        text-align: right;\n",
       "    }\n",
       "</style>\n",
       "<table border=\"1\" class=\"dataframe\">\n",
       "  <thead>\n",
       "    <tr style=\"text-align: right;\">\n",
       "      <th></th>\n",
       "      <th>MultinomialNB()</th>\n",
       "      <th>BaggingClassifier(base_estimator=MultinomialNB())</th>\n",
       "      <th>BernoulliNB()</th>\n",
       "      <th>GaussianNB()</th>\n",
       "      <th>RandomForestClassifier(class_weight='balanced', max_depth=5)</th>\n",
       "      <th>SVC(kernel='linear')</th>\n",
       "      <th>KNeighborsClassifier()</th>\n",
       "      <th>MLPClassifier(hidden_layer_sizes=(5, 5, 3))</th>\n",
       "      <th>LogisticRegression(class_weight='balanced')</th>\n",
       "      <th>BaggingClassifier(base_estimator=LogisticRegression(class_weight='balanced'))</th>\n",
       "    </tr>\n",
       "  </thead>\n",
       "  <tbody>\n",
       "    <tr>\n",
       "      <th>precision</th>\n",
       "      <td>0.62</td>\n",
       "      <td>0.61</td>\n",
       "      <td>0.31</td>\n",
       "      <td>0.55</td>\n",
       "      <td>0.31</td>\n",
       "      <td>0.47</td>\n",
       "      <td>0.37</td>\n",
       "      <td>0.38</td>\n",
       "      <td>0.32</td>\n",
       "      <td>0.32</td>\n",
       "    </tr>\n",
       "    <tr>\n",
       "      <th>recall</th>\n",
       "      <td>0.31</td>\n",
       "      <td>0.31</td>\n",
       "      <td>0.24</td>\n",
       "      <td>0.14</td>\n",
       "      <td>0.23</td>\n",
       "      <td>0.35</td>\n",
       "      <td>0.30</td>\n",
       "      <td>0.23</td>\n",
       "      <td>0.30</td>\n",
       "      <td>0.30</td>\n",
       "    </tr>\n",
       "    <tr>\n",
       "      <th>f1-score</th>\n",
       "      <td>0.36</td>\n",
       "      <td>0.37</td>\n",
       "      <td>0.24</td>\n",
       "      <td>0.18</td>\n",
       "      <td>0.24</td>\n",
       "      <td>0.38</td>\n",
       "      <td>0.31</td>\n",
       "      <td>0.28</td>\n",
       "      <td>0.30</td>\n",
       "      <td>0.31</td>\n",
       "    </tr>\n",
       "    <tr>\n",
       "      <th>accuracy</th>\n",
       "      <td>0.31</td>\n",
       "      <td>0.31</td>\n",
       "      <td>0.24</td>\n",
       "      <td>0.14</td>\n",
       "      <td>0.23</td>\n",
       "      <td>0.35</td>\n",
       "      <td>0.30</td>\n",
       "      <td>0.23</td>\n",
       "      <td>0.30</td>\n",
       "      <td>0.30</td>\n",
       "    </tr>\n",
       "  </tbody>\n",
       "</table>\n",
       "</div>"
      ],
      "text/plain": [
       "           MultinomialNB()  BaggingClassifier(base_estimator=MultinomialNB())  \\\n",
       "precision             0.62                                               0.61   \n",
       "recall                0.31                                               0.31   \n",
       "f1-score              0.36                                               0.37   \n",
       "accuracy              0.31                                               0.31   \n",
       "\n",
       "           BernoulliNB()  GaussianNB()  \\\n",
       "precision           0.31          0.55   \n",
       "recall              0.24          0.14   \n",
       "f1-score            0.24          0.18   \n",
       "accuracy            0.24          0.14   \n",
       "\n",
       "           RandomForestClassifier(class_weight='balanced', max_depth=5)  \\\n",
       "precision                                               0.31              \n",
       "recall                                                  0.23              \n",
       "f1-score                                                0.24              \n",
       "accuracy                                                0.23              \n",
       "\n",
       "           SVC(kernel='linear')  KNeighborsClassifier()  \\\n",
       "precision                  0.47                    0.37   \n",
       "recall                     0.35                    0.30   \n",
       "f1-score                   0.38                    0.31   \n",
       "accuracy                   0.35                    0.30   \n",
       "\n",
       "           MLPClassifier(hidden_layer_sizes=(5, 5, 3))  \\\n",
       "precision                                         0.38   \n",
       "recall                                            0.23   \n",
       "f1-score                                          0.28   \n",
       "accuracy                                          0.23   \n",
       "\n",
       "           LogisticRegression(class_weight='balanced')  \\\n",
       "precision                                         0.32   \n",
       "recall                                            0.30   \n",
       "f1-score                                          0.30   \n",
       "accuracy                                          0.30   \n",
       "\n",
       "           BaggingClassifier(base_estimator=LogisticRegression(class_weight='balanced'))  \n",
       "precision                                               0.32                              \n",
       "recall                                                  0.30                              \n",
       "f1-score                                                0.31                              \n",
       "accuracy                                                0.30                              "
      ]
     },
     "execution_count": 19,
     "metadata": {},
     "output_type": "execute_result"
    }
   ],
   "source": [
    "#transforme a corpus into a Tfidf matrix (n,m) where n is the number of texts and m the words\n",
    "TfidfVec = TfidfVectorizer(\n",
    "            max_df=0.9,\n",
    "            max_features=10000, \n",
    "            ngram_range=(1,3),\n",
    "            tokenizer=preprocessing_tok2\n",
    "            )\n",
    "\n",
    "#Tfidf matrix of training set\n",
    "Tfidf_matrix = TfidfVec.fit_transform(sentence.sentence.values)\n",
    "#Tfidf matrix of validation set\n",
    "Tfidf_matrix_val = TfidfVec.transform(dev_set.sentence.values)\n",
    "\n",
    "\n",
    "#Training arrays\n",
    "X= Tfidf_matrix.toarray()\n",
    "y = sentence.emotion.values\n",
    "\n",
    "\n",
    "#Validation arrays\n",
    "x_val = Tfidf_matrix_val.toarray()\n",
    "y_val = dev_set.emotion.values\n",
    "\n",
    "Classifier_tester(X,y,x_val,y_val)"
   ]
  },
  {
   "cell_type": "markdown",
   "id": "e2da4450-14c0-4207-a884-be82838246b5",
   "metadata": {},
   "source": [
    "### 5.4. Results Interpretation"
   ]
  },
  {
   "cell_type": "markdown",
   "id": "18f35fa3-5667-4950-ba47-8b28cdb8b1ce",
   "metadata": {},
   "source": [
    "### 5.4.1. Standard linear SVC "
   ]
  },
  {
   "cell_type": "code",
   "execution_count": 6,
   "id": "b994335f-5e2b-407f-a443-a892484e9945",
   "metadata": {},
   "outputs": [
    {
     "name": "stdout",
     "output_type": "stream",
     "text": [
      "              precision    recall  f1-score   support\n",
      "\n",
      "           1       0.33      0.65      0.44       211\n",
      "           2       0.42      0.42      0.42       170\n",
      "           3       0.20      0.10      0.14        77\n",
      "           4       0.30      0.23      0.26       104\n",
      "           5       0.43      0.38      0.40        97\n",
      "           6       0.37      0.20      0.26        87\n",
      "           7       0.37      0.16      0.22        96\n",
      "           8       0.40      0.31      0.35       158\n",
      "\n",
      "    accuracy                           0.36      1000\n",
      "   macro avg       0.35      0.31      0.31      1000\n",
      "weighted avg       0.36      0.36      0.34      1000\n",
      "\n",
      "[[137  22   8  18   3   8   4  11]\n",
      " [ 46  71   9   8   7   1   7  21]\n",
      " [ 43   8   8   5   2   3   2   6]\n",
      " [ 42  12   2  24   6   5   2  11]\n",
      " [ 23  13   3   3  37   4   3  11]\n",
      " [ 32  14   2   6   7  17   4   5]\n",
      " [ 35  12   2  10   9   5  15   8]\n",
      " [ 55  19   6   6  16   3   4  49]]\n",
      "timing 2223.3572229\n"
     ]
    }
   ],
   "source": [
    "begin=time.perf_counter() \n",
    "#transforme a corpus into a Tfidf matrix (n,m) where n is the number of texts and m the words\n",
    "TfidfVec = TfidfVectorizer(\n",
    "            max_df=0.9,\n",
    "            max_features=10000, \n",
    "            ngram_range=(1,3),\n",
    "            tokenizer=preprocessing_tok1\n",
    "            )\n",
    "\n",
    "#Tfidf matrix of training set\n",
    "Tfidf_matrix = TfidfVec.fit_transform(sentence.sentence.values)\n",
    "#Tfidf matrix of validation set\n",
    "Tfidf_matrix_val = TfidfVec.transform(dev_set.sentence.values)\n",
    "\n",
    "\n",
    "#Training arrays\n",
    "X= Tfidf_matrix.toarray()\n",
    "y = sentence.emotion.values\n",
    "\n",
    "\n",
    "#Validation arrays\n",
    "x_val = Tfidf_matrix_val.toarray()\n",
    "y_val = dev_set.emotion.values\n",
    "\n",
    "# Support vector classification algorithm \n",
    "clf=SVC(kernel='linear')\n",
    "\n",
    "#train the clf\n",
    "clf.fit(X,y)\n",
    "\n",
    "#predict for new sentences of the dev set\n",
    "y_pred = clf.predict(x_val)\n",
    "\n",
    "#evaluation metrics \n",
    "print(classification_report(y_val, y_pred))\n",
    "print(confusion_matrix(y_val, y_pred))\n",
    "\n",
    "end=time.perf_counter()\n",
    "timer=end-begin\n",
    "print(f\"timing {timer}\") "
   ]
  },
  {
   "cell_type": "markdown",
   "id": "b92795ef-e3f1-4566-9bcf-84fb5ae0bec7",
   "metadata": {},
   "source": [
    "#### 5.4.2. ADASYN"
   ]
  },
  {
   "cell_type": "code",
   "execution_count": 10,
   "id": "fdc2ec0b-e21a-45eb-adf5-67a741eace96",
   "metadata": {},
   "outputs": [
    {
     "name": "stdout",
     "output_type": "stream",
     "text": [
      "              precision    recall  f1-score   support\n",
      "\n",
      "           1       0.41      0.37      0.39       211\n",
      "           2       0.41      0.34      0.37       170\n",
      "           3       0.23      0.22      0.23        77\n",
      "           4       0.28      0.31      0.29       104\n",
      "           5       0.40      0.46      0.43        97\n",
      "           6       0.28      0.28      0.28        87\n",
      "           7       0.21      0.38      0.27        96\n",
      "           8       0.40      0.27      0.32       158\n",
      "\n",
      "    accuracy                           0.33      1000\n",
      "   macro avg       0.33      0.33      0.32      1000\n",
      "weighted avg       0.35      0.33      0.34      1000\n",
      "\n",
      "[[79 15 20 24  5 20 36 12]\n",
      " [18 58 10 17 13  8 25 21]\n",
      " [20  7 17  6  4  6 11  6]\n",
      " [18  7  6 32  5  8 18 10]\n",
      " [ 6  9  4  2 45  6 14 11]\n",
      " [17 10  2  8  7 24 16  3]\n",
      " [12  9  5 16 11  6 36  1]\n",
      " [24 25  9  8 22  8 19 43]]\n",
      "timing 4388.438919400003\n"
     ]
    }
   ],
   "source": [
    "begin=time.perf_counter() \n",
    "\n",
    "TfidfVec = TfidfVectorizer(\n",
    "            max_df=0.9,\n",
    "            max_features=10000, \n",
    "            ngram_range=(1,3),\n",
    "            tokenizer=preprocessing_tok1\n",
    "            )\n",
    "\n",
    "#Tfidf matrix of training set\n",
    "Tfidf_matrix = TfidfVec.fit_transform(sentence.sentence.values)\n",
    "#Tfidf matrix of validation set\n",
    "Tfidf_matrix_val = TfidfVec.transform(dev_set.sentence.values)\n",
    "\n",
    "#Validation arrays\n",
    "x_val = Tfidf_matrix_val.toarray()\n",
    "y_val = dev_set.emotion.values\n",
    "\n",
    "\n",
    "ada = ADASYN(\n",
    "    sampling_strategy='auto',  # Means it will only sample from the minority class\n",
    "    random_state=0,            # for reproducibility\n",
    "    n_neighbors=5)             # how many neighbours\n",
    "\n",
    "X_ada, y_ada = ada.fit_resample(Tfidf_matrix.toarray(), sentence.emotion.values)\n",
    "\n",
    "# Support vector classification algorithm \n",
    "clf=SVC(kernel='linear')\n",
    "\n",
    "#train the clf\n",
    "clf.fit(X_ada,y_ada)\n",
    "\n",
    "#predict for new sentences of the dev set\n",
    "y_pred = clf.predict(x_val)\n",
    "\n",
    "#evaluation metrics \n",
    "print(classification_report(y_val, y_pred))\n",
    "print(confusion_matrix(y_val, y_pred))\n",
    "\n",
    "end=time.perf_counter()\n",
    "timer=end-begin\n",
    "print(f\"timing {timer}\") \n"
   ]
  },
  {
   "cell_type": "code",
   "execution_count": 12,
   "id": "ee492a5c-b34a-4e49-ab8f-f9749c8da993",
   "metadata": {},
   "outputs": [
    {
     "data": {
      "text/plain": [
       "(22737, 10000)"
      ]
     },
     "execution_count": 12,
     "metadata": {},
     "output_type": "execute_result"
    }
   ],
   "source": [
    "# There's many more rows \n",
    "X_ada.shape"
   ]
  },
  {
   "cell_type": "markdown",
   "id": "7aace4ed-2e62-41d1-b7bf-0e2578b3a464",
   "metadata": {},
   "source": [
    "### 5.5. Fine-tuning Best Approach "
   ]
  },
  {
   "cell_type": "markdown",
   "id": "c492b10c-c0e5-4bf6-a9b4-339a9f18e6ed",
   "metadata": {},
   "source": [
    "#### 5.5.1. SVC with parameter C=50"
   ]
  },
  {
   "cell_type": "code",
   "execution_count": 9,
   "id": "402634bf-9139-44ed-b57e-e2c34497acd6",
   "metadata": {},
   "outputs": [
    {
     "name": "stdout",
     "output_type": "stream",
     "text": [
      "              precision    recall  f1-score   support\n",
      "\n",
      "           1       0.32      0.50      0.39       211\n",
      "           2       0.40      0.41      0.41       170\n",
      "           3       0.21      0.19      0.20        77\n",
      "           4       0.29      0.24      0.26       104\n",
      "           5       0.37      0.32      0.34        97\n",
      "           6       0.23      0.21      0.22        87\n",
      "           7       0.29      0.18      0.22        96\n",
      "           8       0.33      0.26      0.29       158\n",
      "\n",
      "    accuracy                           0.32      1000\n",
      "   macro avg       0.31      0.29      0.29      1000\n",
      "weighted avg       0.32      0.32      0.31      1000\n",
      "\n",
      "[[105  29  14  16   6  17  13  11]\n",
      " [ 33  70  13  12   9   7   9  17]\n",
      " [ 29   6  15   6   3   5   6   7]\n",
      " [ 32  11   5  25   6  10   3  12]\n",
      " [ 19  12   6   0  31   7   2  20]\n",
      " [ 28  14   4   4   4  18   5  10]\n",
      " [ 27  11   5  11  10   8  17   7]\n",
      " [ 51  20   8  12  14   8   4  41]]\n",
      "timing 2651.3392669999994\n"
     ]
    }
   ],
   "source": [
    "begin=time.perf_counter() \n",
    "\n",
    "# Support vector classification algorithm \n",
    "clf=SVC(kernel='linear', C=50)\n",
    "\n",
    "#train the clf\n",
    "clf.fit(X,y)\n",
    "\n",
    "#predict for new sentences of the dev set\n",
    "y_pred = clf.predict(x_val)\n",
    "\n",
    "#evaluation metrics \n",
    "print(classification_report(y_val, y_pred))\n",
    "print(confusion_matrix(y_val, y_pred))\n",
    "\n",
    "end=time.perf_counter()\n",
    "timer=end-begin\n",
    "print(f\"timing {timer}\") "
   ]
  },
  {
   "cell_type": "markdown",
   "id": "7e6b0876-72d8-4c7a-a9c1-798312e0a586",
   "metadata": {},
   "source": [
    "#### 5.5.2. TfidfVectorizer with parameter max_features=20000"
   ]
  },
  {
   "cell_type": "code",
   "execution_count": 7,
   "id": "051a6a9f-8410-47a3-a9f9-bbf8803aa738",
   "metadata": {},
   "outputs": [
    {
     "name": "stdout",
     "output_type": "stream",
     "text": [
      "              precision    recall  f1-score   support\n",
      "\n",
      "           1       0.33      0.61      0.43       211\n",
      "           2       0.40      0.42      0.41       170\n",
      "           3       0.18      0.09      0.12        77\n",
      "           4       0.30      0.22      0.25       104\n",
      "           5       0.40      0.38      0.39        97\n",
      "           6       0.35      0.21      0.26        87\n",
      "           7       0.36      0.16      0.22        96\n",
      "           8       0.36      0.29      0.32       158\n",
      "\n",
      "    accuracy                           0.35      1000\n",
      "   macro avg       0.33      0.30      0.30      1000\n",
      "weighted avg       0.34      0.35      0.33      1000\n",
      "\n",
      "[[129  21  11  19   3   9   4  15]\n",
      " [ 46  72   7   6   9   2   7  21]\n",
      " [ 41  10   7   5   2   4   1   7]\n",
      " [ 40  13   2  23   5   6   2  13]\n",
      " [ 21  11   3   3  37   5   4  13]\n",
      " [ 30  15   1   6  10  18   3   4]\n",
      " [ 33  14   2   9  10   5  15   8]\n",
      " [ 53  22   5   6  17   3   6  46]]\n",
      "timing 3577.298510499999\n"
     ]
    }
   ],
   "source": [
    "begin=time.perf_counter() \n",
    "#transforme a corpus into a Tfidf matrix (n,m) where n is the number of texts and m the words\n",
    "TfidfVec = TfidfVectorizer(\n",
    "            max_df=0.9,\n",
    "            max_features=20000, \n",
    "            ngram_range=(1,3),\n",
    "            tokenizer=preprocessing_tok1\n",
    "            )\n",
    "\n",
    "#Tfidf matrix of training set\n",
    "Tfidf_matrix = TfidfVec.fit_transform(sentence.sentence.values)\n",
    "#Tfidf matrix of validation set\n",
    "Tfidf_matrix_val = TfidfVec.transform(dev_set.sentence.values)\n",
    "\n",
    "\n",
    "#Training arrays\n",
    "X= Tfidf_matrix.toarray()\n",
    "y = sentence.emotion.values\n",
    "\n",
    "\n",
    "#Validation arrays\n",
    "x_val = Tfidf_matrix_val.toarray()\n",
    "y_val = dev_set.emotion.values\n",
    "\n",
    "# Support vector classification algorithm \n",
    "clf=SVC(kernel='linear')\n",
    "\n",
    "#train the clf\n",
    "clf.fit(X,y)\n",
    "\n",
    "#predict for new sentences of the dev set\n",
    "y_pred = clf.predict(x_val)\n",
    "\n",
    "#evaluation metrics \n",
    "print(classification_report(y_val, y_pred))\n",
    "print(confusion_matrix(y_val, y_pred))\n",
    "\n",
    "end=time.perf_counter()\n",
    "timer=end-begin\n",
    "print(f\"timing {timer}\") "
   ]
  },
  {
   "cell_type": "markdown",
   "id": "babb83a0-b11d-423c-9922-eeb74f3eeeae",
   "metadata": {},
   "source": [
    "#### 5.5.3. TfidfVectorizer with parameter max_features=5000"
   ]
  },
  {
   "cell_type": "code",
   "execution_count": 8,
   "id": "22a6d47c-e5cd-4af2-9d6f-24466a94a716",
   "metadata": {},
   "outputs": [
    {
     "name": "stdout",
     "output_type": "stream",
     "text": [
      "              precision    recall  f1-score   support\n",
      "\n",
      "           1       0.32      0.65      0.43       211\n",
      "           2       0.41      0.42      0.42       170\n",
      "           3       0.22      0.10      0.14        77\n",
      "           4       0.33      0.24      0.28       104\n",
      "           5       0.41      0.34      0.37        97\n",
      "           6       0.33      0.17      0.23        87\n",
      "           7       0.33      0.14      0.19        96\n",
      "           8       0.41      0.32      0.36       158\n",
      "\n",
      "    accuracy                           0.35      1000\n",
      "   macro avg       0.34      0.30      0.30      1000\n",
      "weighted avg       0.35      0.35      0.33      1000\n",
      "\n",
      "[[137  24   6  18   3   7   4  12]\n",
      " [ 46  72  10   7   7   1   6  21]\n",
      " [ 41   9   8   6   1   5   2   5]\n",
      " [ 41  11   2  25   6   4   2  13]\n",
      " [ 27  12   3   1  33   5   5  11]\n",
      " [ 36  13   1   6   8  15   4   4]\n",
      " [ 39  13   2   9   8   5  13   7]\n",
      " [ 57  20   4   4  15   4   4  50]]\n",
      "timing 1190.0310410999991\n"
     ]
    }
   ],
   "source": [
    "begin=time.perf_counter() \n",
    "#transforme a corpus into a Tfidf matrix (n,m) where n is the number of texts and m the words\n",
    "TfidfVec = TfidfVectorizer(\n",
    "            max_df=0.9,\n",
    "            max_features=5000, \n",
    "            ngram_range=(1,3),\n",
    "            tokenizer=preprocessing_tok1\n",
    "            )\n",
    "\n",
    "#Tfidf matrix of training set\n",
    "Tfidf_matrix = TfidfVec.fit_transform(sentence.sentence.values)\n",
    "#Tfidf matrix of validation set\n",
    "Tfidf_matrix_val = TfidfVec.transform(dev_set.sentence.values)\n",
    "\n",
    "\n",
    "#Training arrays\n",
    "X= Tfidf_matrix.toarray()\n",
    "y = sentence.emotion.values\n",
    "\n",
    "\n",
    "#Validation arrays\n",
    "x_val = Tfidf_matrix_val.toarray()\n",
    "y_val = dev_set.emotion.values\n",
    "\n",
    "# Support vector classification algorithm \n",
    "clf=SVC(kernel='linear')\n",
    "\n",
    "#train the clf\n",
    "clf.fit(X,y)\n",
    "\n",
    "#predict for new sentences of the dev set\n",
    "y_pred = clf.predict(x_val)\n",
    "\n",
    "#evaluation metrics \n",
    "print(classification_report(y_val, y_pred))\n",
    "print(confusion_matrix(y_val, y_pred))\n",
    "\n",
    "end=time.perf_counter()\n",
    "timer=end-begin\n",
    "print(f\"timing {timer}\") "
   ]
  }
 ],
 "metadata": {
  "kernelspec": {
   "display_name": "Python 3 (ipykernel)",
   "language": "python",
   "name": "python3"
  },
  "language_info": {
   "codemirror_mode": {
    "name": "ipython",
    "version": 3
   },
   "file_extension": ".py",
   "mimetype": "text/x-python",
   "name": "python",
   "nbconvert_exporter": "python",
   "pygments_lexer": "ipython3",
   "version": "3.8.8"
  }
 },
 "nbformat": 4,
 "nbformat_minor": 5
}
